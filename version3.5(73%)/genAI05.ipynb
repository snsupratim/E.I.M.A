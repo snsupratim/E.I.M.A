{
  "nbformat": 4,
  "nbformat_minor": 0,
  "metadata": {
    "colab": {
      "provenance": [],
      "gpuType": "T4"
    },
    "kernelspec": {
      "name": "python3",
      "display_name": "Python 3"
    },
    "language_info": {
      "name": "python"
    },
    "accelerator": "GPU"
  },
  "cells": [
    {
      "cell_type": "code",
      "execution_count": 1,
      "metadata": {
        "colab": {
          "base_uri": "https://localhost:8080/"
        },
        "id": "WEC12RhAPvbQ",
        "outputId": "6fa790f9-fe26-4a07-8afb-bac5480f24b1"
      },
      "outputs": [
        {
          "output_type": "stream",
          "name": "stderr",
          "text": [
            "[nltk_data] Downloading package punkt_tab to /root/nltk_data...\n",
            "[nltk_data]   Unzipping tokenizers/punkt_tab.zip.\n"
          ]
        },
        {
          "output_type": "execute_result",
          "data": {
            "text/plain": [
              "True"
            ]
          },
          "metadata": {},
          "execution_count": 1
        }
      ],
      "source": [
        "import nltk\n",
        "import random\n",
        "import json\n",
        "import numpy as np\n",
        "import torch\n",
        "import torch.nn as nn\n",
        "from torch.utils.data import Dataset, DataLoader\n",
        "\n",
        "# Download necessary NLTK resources\n",
        "nltk.download('punkt_tab')"
      ]
    },
    {
      "cell_type": "code",
      "source": [
        "# Load intents from JSON file\n",
        "with open('intents.json', 'r') as f:\n",
        "    intents = json.load(f)\n",
        "\n",
        "# Initialize stemmer\n",
        "from nltk.stem.porter import PorterStemmer\n",
        "stemmer = PorterStemmer()\n",
        "\n",
        "def tokenize(sentence):\n",
        "    \"\"\"Split sentence into array of words/tokens.\"\"\"\n",
        "    return nltk.word_tokenize(sentence)\n",
        "\n",
        "def stem(word):\n",
        "    \"\"\"Find the root form of the word.\"\"\"\n",
        "    return stemmer.stem(word.lower())\n",
        "\n",
        "def bag_of_words(tokenized_sentence, words):\n",
        "    \"\"\"Return bag of words array.\"\"\"\n",
        "    sentence_words = [stem(word) for word in tokenized_sentence]\n",
        "    bag = np.zeros(len(words), dtype=np.float32)\n",
        "    for idx, w in enumerate(words):\n",
        "        if w in sentence_words:\n",
        "            bag[idx] = 1\n",
        "    return bag"
      ],
      "metadata": {
        "id": "olzfKdzkP3mc"
      },
      "execution_count": 16,
      "outputs": []
    },
    {
      "cell_type": "code",
      "source": [
        "# Prepare training data\n",
        "all_words = []\n",
        "tags = []\n",
        "xy = []\n",
        "\n",
        "for intent in intents['intents']:\n",
        "    tag = intent['tag']\n",
        "    tags.append(tag)\n",
        "    for pattern in intent['patterns']:\n",
        "        w = tokenize(pattern)\n",
        "        all_words.extend(w)\n",
        "        xy.append((w, tag))\n",
        "\n",
        "# Stem and lower each word\n",
        "ignore_words = ['?', '.', '!']\n",
        "all_words = [stem(w) for w in all_words if w not in ignore_words]\n",
        "all_words = sorted(set(all_words))\n",
        "tags = sorted(set(tags))"
      ],
      "metadata": {
        "id": "dxMvVRx4SJ7k"
      },
      "execution_count": 17,
      "outputs": []
    },
    {
      "cell_type": "code",
      "source": [
        "# Create training data\n",
        "X_train = []\n",
        "y_train = []\n",
        "for (pattern_sentence, tag) in xy:\n",
        "    bag = bag_of_words(pattern_sentence, all_words)\n",
        "    X_train.append(bag)\n",
        "    label = tags.index(tag)\n",
        "    y_train.append(label)\n",
        "\n",
        "X_train = np.array(X_train)\n",
        "y_train = np.array(y_train)\n"
      ],
      "metadata": {
        "id": "gAaJyatASVcl"
      },
      "execution_count": 18,
      "outputs": []
    },
    {
      "cell_type": "code",
      "source": [
        "class NeuralNet(nn.Module):\n",
        "    def __init__(self, input_size, hidden_size, num_classes):\n",
        "        super(NeuralNet, self).__init__()\n",
        "        self.l1 = nn.Linear(input_size, hidden_size)\n",
        "        self.l2 = nn.Linear(hidden_size, hidden_size)\n",
        "        self.l3 = nn.Linear(hidden_size, num_classes)\n",
        "        self.relu = nn.ReLU()\n",
        "\n",
        "    def forward(self, x):\n",
        "        out = self.l1(x)\n",
        "        out = self.relu(out)\n",
        "        out = self.l2(out) # Pass 'out' to l2 instead of 'x'\n",
        "        out = self.relu(out)\n",
        "        out = self.l3(out)\n",
        "        return out"
      ],
      "metadata": {
        "id": "nHszbRWQSYRq"
      },
      "execution_count": 43,
      "outputs": []
    },
    {
      "cell_type": "code",
      "source": [
        "# Hyper-parameters\n",
        "num_epochs = 1000\n",
        "batch_size = 8\n",
        "learning_rate = 0.001\n",
        "input_size = len(X_train[0])\n",
        "hidden_size = 8\n",
        "output_size = len(tags)\n"
      ],
      "metadata": {
        "id": "lW53C-IcSbdX"
      },
      "execution_count": 44,
      "outputs": []
    },
    {
      "cell_type": "code",
      "source": [
        "class ChatDataset(Dataset):\n",
        "    def __init__(self):\n",
        "        self.n_samples = len(X_train)\n",
        "        self.x_data = X_train\n",
        "        self.y_data = y_train\n",
        "\n",
        "    def __getitem__(self, index):\n",
        "        return self.x_data[index], self.y_data[index]\n",
        "\n",
        "    def __len__(self):\n",
        "        return self.n_samples\n",
        "\n",
        "dataset = ChatDataset()\n",
        "train_loader = DataLoader(dataset=dataset,\n",
        "                          batch_size=batch_size,\n",
        "                          shuffle=True,\n",
        "                          num_workers=0)\n",
        "\n",
        "device = torch.device('cuda' if torch.cuda.is_available() else 'cpu')\n",
        "model = NeuralNet(input_size, hidden_size, output_size).to(device)"
      ],
      "metadata": {
        "id": "aygq9fUDSfYs"
      },
      "execution_count": 45,
      "outputs": []
    },
    {
      "cell_type": "code",
      "source": [
        "# Loss and optimizer\n",
        "criterion = nn.CrossEntropyLoss()\n",
        "optimizer = torch.optim.Adam(model.parameters(), lr=learning_rate)\n",
        "\n",
        "# Train the model\n",
        "for epoch in range(num_epochs):\n",
        "    for (words, labels) in train_loader:\n",
        "        words = words.to(device)\n",
        "        labels = labels.to(dtype=torch.long).to(device)\n",
        "\n",
        "        outputs = model(words)\n",
        "        loss = criterion(outputs, labels)\n",
        "\n",
        "        optimizer.zero_grad()\n",
        "        loss.backward()\n",
        "        optimizer.step()\n",
        "\n",
        "    if (epoch + 1) % 100 == 0:\n",
        "        print(f'Epoch [{epoch + 1}/{num_epochs}], Loss: {loss.item():.4f}')\n",
        "\n",
        "print(f'Final loss: {loss.item():.4f}')"
      ],
      "metadata": {
        "colab": {
          "base_uri": "https://localhost:8080/"
        },
        "id": "LxVlU7VCSiV7",
        "outputId": "2540d697-6f74-4f37-d941-9fd851891eb3"
      },
      "execution_count": 46,
      "outputs": [
        {
          "output_type": "stream",
          "name": "stdout",
          "text": [
            "Epoch [100/1000], Loss: 0.9445\n",
            "Epoch [200/1000], Loss: 0.0441\n",
            "Epoch [300/1000], Loss: 0.0070\n",
            "Epoch [400/1000], Loss: 0.0029\n",
            "Epoch [500/1000], Loss: 0.0021\n",
            "Epoch [600/1000], Loss: 0.0013\n",
            "Epoch [700/1000], Loss: 0.0004\n",
            "Epoch [800/1000], Loss: 0.0006\n",
            "Epoch [900/1000], Loss: 0.0002\n",
            "Epoch [1000/1000], Loss: 0.0001\n",
            "Final loss: 0.0001\n"
          ]
        }
      ]
    },
    {
      "cell_type": "code",
      "source": [
        "data = {\n",
        "    \"model_state\": model.state_dict(),\n",
        "    \"input_size\": input_size,\n",
        "    \"hidden_size\": hidden_size,\n",
        "    \"output_size\": output_size,\n",
        "    \"all_words\": all_words,\n",
        "    \"tags\": tags\n",
        "}\n",
        "\n",
        "FILE = \"chatbot_model.pth\"\n",
        "torch.save(data, FILE)\n",
        "\n",
        "print(f'Training complete. File saved to {FILE}')\n"
      ],
      "metadata": {
        "colab": {
          "base_uri": "https://localhost:8080/"
        },
        "id": "Xmm9pb9wSlbj",
        "outputId": "57e0f570-e941-4152-80f7-1a6cd22c8fb5"
      },
      "execution_count": 47,
      "outputs": [
        {
          "output_type": "stream",
          "name": "stdout",
          "text": [
            "Training complete. File saved to chatbot_model.pth\n"
          ]
        }
      ]
    },
    {
      "cell_type": "code",
      "source": [
        "# Context and Entity-aware Chatbot\n",
        "class ChatBot:\n",
        "    def __init__(self):\n",
        "        self.context = None\n",
        "        self.entities = {}\n",
        "\n",
        "    def get_response(self, user_input):\n",
        "        \"\"\"Get a response based on user input, context, and entities.\"\"\"\n",
        "        sentence = tokenize(user_input)\n",
        "        X = bag_of_words(sentence, all_words)\n",
        "        X = torch.from_numpy(X).to(device)\n",
        "        output = model(X)\n",
        "        _, predicted = torch.max(output, dim=0)\n",
        "        tag = tags[predicted.item()]\n",
        "\n",
        "        # Find the intent\n",
        "        for intent in intents['intents']:\n",
        "            if tag == intent['tag']:\n",
        "                # Update context and entities\n",
        "                self.context = random.choice(intent.get('context', [None]))\n",
        "                for entity in intent.get('entities', []):\n",
        "                    if entity in sentence:\n",
        "                        self.entities[entity] = True\n",
        "\n",
        "                # Return appropriate response\n",
        "                response = random.choice(intent['responses'])\n",
        "\n",
        "                # Append entity information if relevant\n",
        "                if self.entities:\n",
        "                    response += f\" (Detected entities: {', '.join(self.entities.keys())})\"\n",
        "                return response\n",
        "\n",
        "        return \"I'm sorry, I don't understand.\""
      ],
      "metadata": {
        "id": "DvFZFmLHTGLI"
      },
      "execution_count": 48,
      "outputs": []
    },
    {
      "cell_type": "code",
      "source": [
        "# Create chatbot instance and start conversation\n",
        "chatbot = ChatBot()\n",
        "\n",
        "print(\"Let's chat! (type 'quit' to exit)\")\n",
        "while True:\n",
        "    user_input = input(\"You: \")\n",
        "    if user_input.lower() == \"quit\":\n",
        "        break\n",
        "    response = chatbot.get_response(user_input)\n",
        "    print(f\"Bot: {response}\")"
      ],
      "metadata": {
        "colab": {
          "base_uri": "https://localhost:8080/"
        },
        "id": "2aPWzHqoTJKr",
        "outputId": "794d85ae-1505-4aa6-cad5-2705b8644683"
      },
      "execution_count": 49,
      "outputs": [
        {
          "name": "stdout",
          "output_type": "stream",
          "text": [
            "Let's chat! (type 'quit' to exit)\n",
            "You: quit\n"
          ]
        }
      ]
    },
    {
      "cell_type": "code",
      "source": [
        "def validate_model(test_data, model, all_words, tags):\n",
        "    \"\"\"\n",
        "    Validate the chatbot model on a test dataset.\n",
        "\n",
        "    Parameters:\n",
        "        test_data (list): A list of tuples where each tuple contains a user input and its expected tag.\n",
        "                          Example: [(\"How can I apply?\", \"admissions\"), ...]\n",
        "        model (NeuralNet): The trained chatbot model.\n",
        "        all_words (list): The vocabulary used for training.\n",
        "        tags (list): The list of intent tags.\n",
        "\n",
        "    Returns:\n",
        "        float: Accuracy of the model on the test dataset.\n",
        "    \"\"\"\n",
        "    model.eval()  # Set the model to evaluation mode\n",
        "    correct = 0\n",
        "\n",
        "    for user_input, expected_tag in test_data:\n",
        "        # Preprocess user input\n",
        "        tokenized_input = tokenize(user_input)\n",
        "        bag = bag_of_words(tokenized_input, all_words)\n",
        "        bag_tensor = torch.from_numpy(bag).unsqueeze(0).to(device)  # Add batch dimension and move to device\n",
        "\n",
        "        # Get the model prediction\n",
        "        output = model(bag_tensor)\n",
        "        _, predicted_idx = torch.max(output, dim=1)\n",
        "        predicted_tag = tags[predicted_idx.item()]\n",
        "\n",
        "        # Compare with the expected tag\n",
        "        if predicted_tag == expected_tag:\n",
        "            correct += 1\n",
        "\n",
        "    accuracy = correct / len(test_data) * 100\n",
        "    return accuracy\n",
        "\n",
        "# Example Test Data\n",
        "test_data = [\n",
        "    # Admissions-related questions\n",
        "    (\"How can I apply for admission?\", \"admissions\"),\n",
        "    (\"What are the admission requirements?\", \"admissions\"),\n",
        "    (\"When is the application deadline?\", \"admissions\"),\n",
        "    (\"Can I apply online?\", \"admissions\"),\n",
        "    (\"Is the admission process open now?\", \"admissions\"),\n",
        "    (\"Where can I find the admission form?\", \"admissions\"),\n",
        "    (\"What documents are needed for admission?\", \"admissions\"),\n",
        "    (\"Do you have rolling admissions?\", \"admissions\"),\n",
        "\n",
        "    # Courses-related questions\n",
        "    (\"Can I see the list of courses?\", \"courses\"),\n",
        "    (\"What courses are offered?\", \"courses\"),\n",
        "    (\"Do you have engineering programs?\", \"courses\"),\n",
        "    (\"What are the popular courses?\", \"courses\"),\n",
        "    (\"Can you tell me about business programs?\", \"courses\"),\n",
        "    (\"Do you offer data science programs?\", \"courses\"),\n",
        "    (\"Are there any evening courses?\", \"courses\"),\n",
        "    (\"Is there a course in AI?\", \"courses\"),\n",
        "\n",
        "    # Fees-related questions\n",
        "    (\"How much does the MBA program cost?\", \"fees\"),\n",
        "    (\"What is the tuition fee?\", \"fees\"),\n",
        "    (\"Are there any scholarships available?\", \"fees\"),\n",
        "    (\"What is the fee structure?\", \"fees\"),\n",
        "    (\"Is there any financial aid for students?\", \"fees\"),\n",
        "    (\"Do international students pay more fees?\", \"fees\"),\n",
        "    (\"Can I pay fees in installments?\", \"fees\"),\n",
        "    (\"What is the cost for a bachelor's program?\", \"fees\"),\n",
        "\n",
        "    # Transportation-related questions\n",
        "    (\"Do you provide transportation facilities?\", \"transportation\"),\n",
        "    (\"Is there a bus service for students?\", \"transportation\"),\n",
        "    (\"What are the transport charges?\", \"transportation\"),\n",
        "    (\"Do you offer transportation on weekends?\", \"transportation\"),\n",
        "    (\"Can I get a bus schedule?\", \"transportation\"),\n",
        "    (\"How far does the campus transportation go?\", \"transportation\"),\n",
        "    (\"Is the transportation service reliable?\", \"transportation\"),\n",
        "\n",
        "    # Events-related questions\n",
        "    (\"Tell me about campus events.\", \"events\"),\n",
        "    (\"Are there any upcoming cultural events?\", \"events\"),\n",
        "    (\"What events are happening this month?\", \"events\"),\n",
        "    (\"Do you host any workshops?\", \"events\"),\n",
        "    (\"When is the next seminar?\", \"events\"),\n",
        "    (\"What activities are planned for freshmen?\", \"events\"),\n",
        "    (\"Is there a sports fest?\", \"events\"),\n",
        "\n",
        "    # Placement-related questions\n",
        "    (\"What are the placement statistics?\", \"placement\"),\n",
        "    (\"Do you have a placement cell?\", \"placement\"),\n",
        "    (\"Which companies visit for placements?\", \"placement\"),\n",
        "    (\"What is the placement process?\", \"placement\"),\n",
        "    (\"Can I get placement support as an alumni?\", \"placement\"),\n",
        "    (\"What is the average package for engineering students?\", \"placement\"),\n",
        "    (\"Do startups hire from your campus?\", \"placement\"),\n",
        "\n",
        "    # Facilities-related questions\n",
        "    (\"Is there a library on campus?\", \"facilities\"),\n",
        "    (\"What facilities are available?\", \"facilities\"),\n",
        "    (\"Is there a sports complex?\", \"facilities\"),\n",
        "    (\"Can you tell me about hostel facilities?\", \"facilities\"),\n",
        "    (\"Do you have a gym on campus?\", \"facilities\"),\n",
        "    (\"Are there labs for research students?\", \"facilities\"),\n",
        "    (\"What amenities are there for international students?\", \"facilities\"),\n",
        "\n",
        "    # Library-related questions\n",
        "    (\"What are the library timings?\", \"library\"),\n",
        "    (\"Can I borrow books from the library?\", \"library\"),\n",
        "    (\"Do you have an online library?\", \"library\"),\n",
        "    (\"Are there study rooms in the library?\", \"library\"),\n",
        "    (\"Does the library provide access to research papers?\", \"library\"),\n",
        "    (\"Can I use the library as an external member?\", \"library\"),\n",
        "\n",
        "    # Scholarships-related questions\n",
        "    (\"Are there any scholarships available?\", \"scholarships\"),\n",
        "    (\"How can I apply for scholarships?\", \"scholarships\"),\n",
        "    (\"Do you offer merit-based scholarships?\", \"scholarships\"),\n",
        "    (\"What are the eligibility criteria for scholarships?\", \"scholarships\"),\n",
        "    (\"Are there scholarships for international students?\", \"scholarships\"),\n",
        "    (\"Can I apply for multiple scholarships?\", \"scholarships\"),\n",
        "    (\"Is financial aid available for low-income families?\", \"scholarships\"),\n",
        "\n",
        "    # Hostel-related questions\n",
        "    (\"What are the hostel charges?\", \"hostel\"),\n",
        "    (\"Do you have separate hostels for boys and girls?\", \"hostel\"),\n",
        "    (\"What amenities are provided in the hostel?\", \"hostel\"),\n",
        "    (\"Is there 24/7 security in the hostel?\", \"hostel\"),\n",
        "    (\"Can I get a single room in the hostel?\", \"hostel\"),\n",
        "    (\"Do hostels have Wi-Fi?\", \"hostel\"),\n",
        "    (\"Are meals included in the hostel fee?\", \"hostel\"),\n",
        "]\n",
        "\n",
        "\n",
        "# Validate the model\n",
        "accuracy = validate_model(test_data, model, all_words, tags)\n",
        "print(f\"Model Accuracy: {accuracy:.2f}%\")\n"
      ],
      "metadata": {
        "colab": {
          "base_uri": "https://localhost:8080/"
        },
        "id": "bWXFTdP3Woup",
        "outputId": "55fecd41-6df9-4b3b-b48a-ea3fb88a0363"
      },
      "execution_count": 50,
      "outputs": [
        {
          "output_type": "stream",
          "name": "stdout",
          "text": [
            "Model Accuracy: 63.89%\n"
          ]
        }
      ]
    }
  ]
}