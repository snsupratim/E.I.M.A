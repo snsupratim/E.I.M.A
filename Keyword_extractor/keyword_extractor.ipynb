{
  "nbformat": 4,
  "nbformat_minor": 0,
  "metadata": {
    "colab": {
      "provenance": [],
      "gpuType": "T4"
    },
    "kernelspec": {
      "name": "python3",
      "display_name": "Python 3"
    },
    "language_info": {
      "name": "python"
    },
    "accelerator": "GPU"
  },
  "cells": [
    {
      "cell_type": "code",
      "source": [
        "import re\n",
        "from nltk.corpus import stopwords\n",
        "\n",
        "# Define stopwords\n",
        "stop_words = set(stopwords.words('english'))\n",
        "\n",
        "\n",
        "def preprocess_text(text):\n",
        "    # Lowercase the text\n",
        "    text = text.lower()\n",
        "    # Remove punctuation\n",
        "    text = re.sub(r'[^\\w\\s]', '', text)\n",
        "    # Tokenize and remove stopwords\n",
        "    tokens = word_tokenize(text)\n",
        "    tokens = [token for token in tokens if token not in stop_words]\n",
        "    return tokens\n"
      ],
      "metadata": {
        "id": "B5LoP6ET6lif"
      },
      "execution_count": 88,
      "outputs": []
    },
    {
      "cell_type": "code",
      "source": [
        "sentence = \"What is the fee submission deadline?\"\n",
        "tokens = preprocess_text(sentence)\n",
        "print(tokens)\n"
      ],
      "metadata": {
        "colab": {
          "base_uri": "https://localhost:8080/"
        },
        "id": "Ns5m6LP66o2v",
        "outputId": "a72cab39-24c4-46d1-9e14-59c47efff08d"
      },
      "execution_count": 89,
      "outputs": [
        {
          "output_type": "stream",
          "name": "stdout",
          "text": [
            "['fee', 'submission', 'deadline']\n"
          ]
        }
      ]
    },
    {
      "cell_type": "code",
      "source": [
        "data = [\n",
        "    (\"What is the fee submission deadline?\", [\"fee\", \"submission\", \"deadline\"]),\n",
        "    (\"When will the exam schedule be published?\", [\"exam\", \"schedule\", \"published\"]),\n",
        "    (\"How to apply for a scholarship?\", [\"apply\", \"scholarship\"]),\n",
        "    (\"Deadline for application submission is next week\", [\"deadline\", \"application\", \"submission\"]),\n",
        "    (\"What are the documents required for registration?\", [\"documents\", \"required\", \"registration\"]),\n",
        "    (\"AI is transforming technology\", [\"AI\", \"transforming\", \"technology\"]),\n",
        "    (\"Programming in Python is fun\", [\"Programming\", \"Python\"]),\n",
        "    (\"How can I reset my password?\", [\"reset\", \"password\"]),\n",
        "    (\"Where is the nearest airport?\", [\"nearest\", \"airport\"]),\n",
        "    (\"What time does the train depart?\", [\"time\", \"train\", \"depart\"]),\n",
        "    (\"How do I apply for a visa?\", [\"apply\", \"visa\"]),\n",
        "    (\"When is the last date for application submission?\", [\"last\", \"date\", \"application\", \"submission\"]),\n",
        "    (\"What documents are needed for a job interview?\", [\"documents\", \"job\", \"interview\"]),\n",
        "    (\"How to contact customer support?\", [\"contact\", \"customer\", \"support\"]),\n",
        "    (\"Where can I find the nearest hospital?\", [\"nearest\", \"hospital\"]),\n",
        "    (\"What is the address of the nearest bank?\", [\"address\", \"nearest\", \"bank\"]),\n",
        "    (\"How to improve communication skills?\", [\"improve\", \"communication\", \"skills\"]),\n",
        "    (\"What is the current weather in New York?\", [\"weather\", \"New York\"]),\n",
        "    (\"What is the cost of the product?\", [\"cost\", \"product\"]),\n",
        "    (\"Where can I buy this item?\", [\"buy\", \"item\"]),\n",
        "    (\"What are the benefits of exercise?\", [\"benefits\", \"exercise\"]),\n",
        "    (\"How to register for a conference?\", [\"register\", \"conference\"]),\n",
        "    (\"What is the population of India?\", [\"population\", \"India\"]),\n",
        "    (\"Where can I find a parking space?\", [\"find\", \"parking\", \"space\"]),\n",
        "    (\"How to set up a new account?\", [\"set up\", \"new\", \"account\"]),\n",
        "    (\"What is the best way to learn Python?\", [\"best\", \"learn\", \"Python\"]),\n",
        "    (\"Where is the nearest grocery store?\", [\"nearest\", \"grocery\", \"store\"]),\n",
        "    (\"What is the importance of data science?\", [\"importance\", \"data\", \"science\"]),\n",
        "    (\"How to update my profile information?\", [\"update\", \"profile\", \"information\"]),\n",
        "    (\"Where can I buy concert tickets?\", [\"buy\", \"concert\", \"tickets\"]),\n",
        "    (\"What is the deadline for submitting the assignment?\", [\"deadline\", \"submitting\", \"assignment\"]),\n",
        "    (\"How to prepare for a coding interview?\", [\"prepare\", \"coding\", \"interview\"]),\n",
        "    (\"What is the salary of a software engineer?\", [\"salary\", \"software\", \"engineer\"]),\n",
        "    (\"Where can I get a good phone case?\", [\"get\", \"phone\", \"case\"]),\n",
        "    (\"What are the benefits of meditation?\", [\"benefits\", \"meditation\"]),\n",
        "    (\"How to create a resume?\", [\"create\", \"resume\"]),\n",
        "    (\"What is the procedure to open a bank account?\", [\"procedure\", \"open\", \"bank\", \"account\"]),\n",
        "    (\"Where is the nearest pharmacy?\", [\"nearest\", \"pharmacy\"]),\n",
        "    (\"How to set up a website?\", [\"set up\", \"website\"]),\n",
        "    (\"What are the symptoms of COVID-19?\", [\"symptoms\", \"COVID-19\"]),\n",
        "    (\"How to apply for a student loan?\", [\"apply\", \"student\", \"loan\"]),\n",
        "    (\"Where can I find a good restaurant?\", [\"find\", \"good\", \"restaurant\"]),\n",
        "    (\"What are the steps to register a company?\", [\"steps\", \"register\", \"company\"]),\n",
        "    (\"How to prepare for a job interview?\", [\"prepare\", \"job\", \"interview\"]),\n",
        "    (\"What are the requirements for a passport?\", [\"requirements\", \"passport\"]),\n",
        "    (\"Where can I rent a car?\", [\"rent\", \"car\"]),\n",
        "    (\"What is the best smartphone under $500?\", [\"best\", \"smartphone\", \"under\", \"$500\"]),\n",
        "    (\"How to install a new software?\", [\"install\", \"new\", \"software\"]),\n",
        "    (\"What is the cost of a wedding planner?\", [\"cost\", \"wedding\", \"planner\"]),\n",
        "    (\"Where to get a good laptop?\", [\"get\", \"laptop\"]),\n",
        "    (\"What are the side effects of this medicine?\", [\"side effects\", \"medicine\"]),\n",
        "    (\"Where can I buy organic food?\", [\"buy\", \"organic\", \"food\"]),\n",
        "    (\"How to start a blog?\", [\"start\", \"blog\"]),\n",
        "    (\"What is the best laptop for gaming?\", [\"best\", \"laptop\", \"gaming\"]),\n",
        "    (\"How to cook a vegan meal?\", [\"cook\", \"vegan\", \"meal\"]),\n",
        "    (\"What are the top programming languages?\", [\"top\", \"programming\", \"languages\"]),\n",
        "    (\"Where can I watch a good movie?\", [\"watch\", \"good\", \"movie\"]),\n",
        "    (\"How to manage time effectively?\", [\"manage\", \"time\", \"effectively\"]),\n",
        "    (\"What are the different types of machine learning?\", [\"types\", \"machine\", \"learning\"]),\n",
        "    (\"How to clean a house quickly?\", [\"clean\", \"house\", \"quickly\"]),\n",
        "    (\"Where can I get a job as a teacher?\", [\"get\", \"job\", \"teacher\"]),\n",
        "    (\"What is the cost of a wedding ring?\", [\"cost\", \"wedding\", \"ring\"]),\n",
        "    (\"How to join a gym?\", [\"join\", \"gym\"]),\n",
        "    (\"What are the most popular vacation spots?\", [\"popular\", \"vacation\", \"spots\"]),\n",
        "    (\"Where can I find an online course for data science?\", [\"find\", \"online\", \"course\", \"data\", \"science\"]),\n",
        "    (\"What is the best book to read for self-improvement?\", [\"best\", \"book\", \"self-improvement\"]),\n",
        "    (\"How to learn a new language?\", [\"learn\", \"new\", \"language\"]),\n",
        "    (\"What is the best way to stay healthy?\", [\"best\", \"stay\", \"healthy\"]),\n",
        "    (\"Where to buy the latest tech gadgets?\", [\"buy\", \"latest\", \"tech\", \"gadgets\"]),\n",
        "    (\"How to make a good first impression?\", [\"make\", \"good\", \"first\", \"impression\"]),\n",
        "    (\"What is the difference between a job and a career?\", [\"difference\", \"job\", \"career\"]),\n",
        "    (\"How to prepare for a trip?\", [\"prepare\", \"trip\"]),\n",
        "    (\"Where can I buy a new car?\", [\"buy\", \"new\", \"car\"]),\n",
        "    (\"What is the average salary of a doctor?\", [\"average\", \"salary\", \"doctor\"]),\n",
        "    (\"How to create an online store?\", [\"create\", \"online\", \"store\"]),\n",
        "    (\"What are the benefits of eating vegetables?\", [\"benefits\", \"eating\", \"vegetables\"]),\n",
        "    (\"How to start an online business?\", [\"start\", \"online\", \"business\"]),\n",
        "    (\"What is the importance of healthy eating?\", [\"importance\", \"healthy\", \"eating\"]),\n",
        "    (\"Where can I find a good coffee shop?\", [\"find\", \"good\", \"coffee\", \"shop\"]),\n",
        "    (\"What is the best workout for weight loss?\", [\"best\", \"workout\", \"weight\", \"loss\"]),\n",
        "    (\"Where can I get a good massage?\", [\"get\", \"good\", \"massage\"]),\n",
        "    (\"What are the most common causes of stress?\", [\"common\", \"causes\", \"stress\"]),\n",
        "    (\"How to make money online?\", [\"make\", \"money\", \"online\"]),\n",
        "    (\"What is the cost of living in New York?\", [\"cost\", \"living\", \"New York\"]),\n",
        "    (\"Where can I find the best hotels?\", [\"find\", \"best\", \"hotels\"]),\n",
        "    (\"What is the best way to organize your time?\", [\"best\", \"organize\", \"time\"]),\n",
        "    (\"How to start a side business?\", [\"start\", \"side\", \"business\"]),\n",
        "    (\"What are the benefits of yoga?\", [\"benefits\", \"yoga\"]),\n",
        "    (\"Where to buy an electric car?\", [\"buy\", \"electric\", \"car\"]),\n",
        "    (\"How to get a job in data science?\", [\"get\", \"job\", \"data\", \"science\"]),\n",
        "    (\"What is the best way to study?\", [\"best\", \"study\"]),\n",
        "    (\"Where to get a good night's sleep?\", [\"get\", \"good\", \"sleep\"]),\n",
        "    (\"How to write a great resume?\", [\"write\", \"great\", \"resume\"]),\n",
        "    (\"What are the top career opportunities?\", [\"top\", \"career\", \"opportunities\"]),\n",
        "    (\"How to get rid of bad habits?\", [\"get rid\", \"bad\", \"habits\"]),\n",
        "    (\"Where can I learn to code?\", [\"learn\", \"code\"]),\n",
        "    (\"What is the price of a plane ticket?\", [\"price\", \"plane\", \"ticket\"]),\n",
        "    (\"How to organize your finances?\", [\"organize\", \"finances\"]),\n",
        "    (\"Where to buy a new television?\", [\"buy\", \"new\", \"television\"]),\n",
        "    (\"What is the best time to exercise?\", [\"best\", \"time\", \"exercise\"]),\n",
        "    (\"How to get better at public speaking?\", [\"get\", \"better\", \"public\", \"speaking\"]),\n",
        "    (\"Where can I find a mentor?\", [\"find\", \"mentor\"]),\n",
        "    (\"What is the best exercise for toning?\", [\"best\", \"exercise\", \"toning\"]),\n",
        "    (\"How to take good care of your skin?\", [\"take\", \"care\", \"skin\"]),\n",
        "    (\"Where can I find the best restaurants?\", [\"find\", \"best\", \"restaurants\"]),\n",
        "    (\"What are the most popular tourist attractions?\", [\"popular\", \"tourist\", \"attractions\"]),\n",
        "    (\"How to set up a home office?\", [\"set up\", \"home\", \"office\"]),\n",
        "    (\"What are the benefits of reading?\", [\"benefits\", \"reading\"]),\n",
        "]\n",
        "\n"
      ],
      "metadata": {
        "id": "Fnyzx-yv6qtu"
      },
      "execution_count": 90,
      "outputs": []
    },
    {
      "cell_type": "code",
      "source": [
        "\n",
        "texts = [item[0] for item in data]\n",
        "keywords = [item[1] for item in data]\n",
        "\n",
        "tokenizer = Tokenizer()\n",
        "tokenizer.fit_on_texts([preprocess_text(text) for text in texts])  # Tokenize preprocessed texts\n",
        "vocab_size = len(tokenizer.word_index) + 1\n",
        "\n",
        "text_sequences = tokenizer.texts_to_sequences([preprocess_text(text) for text in texts])\n",
        "max_len = max(len(seq) for seq in text_sequences)\n",
        "padded_texts = pad_sequences(text_sequences, maxlen=max_len, padding='post')\n",
        "\n",
        "\n",
        "y = np.zeros((len(texts), max_len))\n",
        "for i, keyword_list in enumerate(keywords):\n",
        "    for word in keyword_list:\n",
        "        if word in tokenizer.word_index:\n",
        "            idx = text_sequences[i].index(tokenizer.word_index[word])  # Find index of word\n",
        "            y[i, idx] = 1\n"
      ],
      "metadata": {
        "id": "0ZBol-KP6uM6"
      },
      "execution_count": 91,
      "outputs": []
    },
    {
      "cell_type": "code",
      "source": [
        "model = Sequential([\n",
        "    Embedding(input_dim=vocab_size, output_dim=64, input_length=max_len),\n",
        "    LSTM(128, return_sequences=True, dropout=0.2, recurrent_dropout=0.2),\n",
        "    Dense(1, activation='sigmoid')\n",
        "])\n",
        "\n",
        "model.compile(optimizer='adam', loss='binary_crossentropy', metrics=['accuracy'])\n",
        "\n",
        "# Train the model\n",
        "history = model.fit(padded_texts, y, epochs=10, batch_size=2, validation_split=0.2)\n"
      ],
      "metadata": {
        "colab": {
          "base_uri": "https://localhost:8080/"
        },
        "id": "S3LqVkCp6woa",
        "outputId": "9502558c-1dd3-4cde-cce4-a5d723f23c76"
      },
      "execution_count": 93,
      "outputs": [
        {
          "output_type": "stream",
          "name": "stdout",
          "text": [
            "Epoch 1/10\n",
            "\u001b[1m43/43\u001b[0m \u001b[32m━━━━━━━━━━━━━━━━━━━━\u001b[0m\u001b[37m\u001b[0m \u001b[1m4s\u001b[0m 27ms/step - accuracy: 0.4817 - loss: 0.6564 - val_accuracy: 0.6545 - val_loss: 0.4875\n",
            "Epoch 2/10\n",
            "\u001b[1m43/43\u001b[0m \u001b[32m━━━━━━━━━━━━━━━━━━━━\u001b[0m\u001b[37m\u001b[0m \u001b[1m1s\u001b[0m 24ms/step - accuracy: 0.7865 - loss: 0.4261 - val_accuracy: 0.9455 - val_loss: 0.2997\n",
            "Epoch 3/10\n",
            "\u001b[1m43/43\u001b[0m \u001b[32m━━━━━━━━━━━━━━━━━━━━\u001b[0m\u001b[37m\u001b[0m \u001b[1m1s\u001b[0m 23ms/step - accuracy: 0.9644 - loss: 0.2380 - val_accuracy: 0.9455 - val_loss: 0.2088\n",
            "Epoch 4/10\n",
            "\u001b[1m43/43\u001b[0m \u001b[32m━━━━━━━━━━━━━━━━━━━━\u001b[0m\u001b[37m\u001b[0m \u001b[1m1s\u001b[0m 19ms/step - accuracy: 0.9730 - loss: 0.1385 - val_accuracy: 0.9364 - val_loss: 0.1760\n",
            "Epoch 5/10\n",
            "\u001b[1m43/43\u001b[0m \u001b[32m━━━━━━━━━━━━━━━━━━━━\u001b[0m\u001b[37m\u001b[0m \u001b[1m1s\u001b[0m 14ms/step - accuracy: 0.9643 - loss: 0.1154 - val_accuracy: 0.9455 - val_loss: 0.1674\n",
            "Epoch 6/10\n",
            "\u001b[1m43/43\u001b[0m \u001b[32m━━━━━━━━━━━━━━━━━━━━\u001b[0m\u001b[37m\u001b[0m \u001b[1m1s\u001b[0m 13ms/step - accuracy: 0.9594 - loss: 0.1133 - val_accuracy: 0.9455 - val_loss: 0.1510\n",
            "Epoch 7/10\n",
            "\u001b[1m43/43\u001b[0m \u001b[32m━━━━━━━━━━━━━━━━━━━━\u001b[0m\u001b[37m\u001b[0m \u001b[1m1s\u001b[0m 13ms/step - accuracy: 0.9699 - loss: 0.0768 - val_accuracy: 0.9364 - val_loss: 0.1407\n",
            "Epoch 8/10\n",
            "\u001b[1m43/43\u001b[0m \u001b[32m━━━━━━━━━━━━━━━━━━━━\u001b[0m\u001b[37m\u001b[0m \u001b[1m1s\u001b[0m 14ms/step - accuracy: 0.9773 - loss: 0.0643 - val_accuracy: 0.9364 - val_loss: 0.1507\n",
            "Epoch 9/10\n",
            "\u001b[1m43/43\u001b[0m \u001b[32m━━━━━━━━━━━━━━━━━━━━\u001b[0m\u001b[37m\u001b[0m \u001b[1m1s\u001b[0m 13ms/step - accuracy: 0.9912 - loss: 0.0568 - val_accuracy: 0.9455 - val_loss: 0.1409\n",
            "Epoch 10/10\n",
            "\u001b[1m43/43\u001b[0m \u001b[32m━━━━━━━━━━━━━━━━━━━━\u001b[0m\u001b[37m\u001b[0m \u001b[1m1s\u001b[0m 14ms/step - accuracy: 0.9852 - loss: 0.0551 - val_accuracy: 0.9273 - val_loss: 0.1493\n"
          ]
        }
      ]
    },
    {
      "cell_type": "code",
      "source": [
        "def extract_keywords(model, sentence, tokenizer, max_len, threshold=0.5):\n",
        "    # Preprocess the input sentence\n",
        "    tokens = preprocess_text(sentence)\n",
        "    token_ids = tokenizer.texts_to_sequences([tokens])\n",
        "    padded_tokens = pad_sequences(token_ids, maxlen=max_len, padding='post')\n",
        "\n",
        "    # Get predictions\n",
        "    predictions = model.predict(padded_tokens)[0].squeeze(-1)\n",
        "\n",
        "    # Extract tokens with probabilities above the threshold\n",
        "    predicted_keywords = [\n",
        "        tokenizer.index_word[token_ids[0][i]]\n",
        "        for i, prob in enumerate(predictions)\n",
        "        if prob > threshold and token_ids[0][i] != 0\n",
        "    ]\n",
        "\n",
        "    return predicted_keywords\n"
      ],
      "metadata": {
        "id": "Qh3Spgl861H5"
      },
      "execution_count": 94,
      "outputs": []
    },
    {
      "cell_type": "code",
      "source": [
        "new_query = \"What is the average salary of a doctor?\"\n",
        "predicted_keywords = extract_keywords(model, new_query, tokenizer, max_len, threshold=0.5)\n",
        "print(\"Extracted Keywords:\", predicted_keywords)\n"
      ],
      "metadata": {
        "colab": {
          "base_uri": "https://localhost:8080/"
        },
        "id": "dPCNOM1m64T-",
        "outputId": "931c4029-f73b-40c8-dc5a-c4da14fe0388"
      },
      "execution_count": 95,
      "outputs": [
        {
          "output_type": "stream",
          "name": "stdout",
          "text": [
            "\u001b[1m1/1\u001b[0m \u001b[32m━━━━━━━━━━━━━━━━━━━━\u001b[0m\u001b[37m\u001b[0m \u001b[1m0s\u001b[0m 341ms/step\n",
            "Extracted Keywords: ['average', 'salary', 'doctor']\n"
          ]
        }
      ]
    },
    {
      "cell_type": "code",
      "source": [
        "model.save(\"keyword_extractor.h5\")"
      ],
      "metadata": {
        "colab": {
          "base_uri": "https://localhost:8080/"
        },
        "id": "vugW7wBL8V8J",
        "outputId": "64f654df-6ec0-4453-9dee-ea3c8439da9a"
      },
      "execution_count": 96,
      "outputs": [
        {
          "output_type": "stream",
          "name": "stderr",
          "text": [
            "WARNING:absl:You are saving your model as an HDF5 file via `model.save()` or `keras.saving.save_model(model)`. This file format is considered legacy. We recommend using instead the native Keras format, e.g. `model.save('my_model.keras')` or `keras.saving.save_model(model, 'my_model.keras')`. \n"
          ]
        }
      ]
    },
    {
      "cell_type": "code",
      "source": [
        "# Load the saved model\n",
        "loaded_model = tf.keras.models.load_model('keyword_extractor.h5')\n",
        "\n",
        "# Test the loaded model by making a prediction\n",
        "new_query = \"What is the fee submission deadline?\"\n",
        "predicted_keywords = extract_keywords(loaded_model, new_query, tokenizer, max_len, threshold=0.5)\n",
        "print(\"Extracted Keywords:\", predicted_keywords)\n"
      ],
      "metadata": {
        "colab": {
          "base_uri": "https://localhost:8080/"
        },
        "id": "MmHq824z8eOV",
        "outputId": "4159b15a-a71c-4d88-d6c4-de4fb5be3dea"
      },
      "execution_count": 97,
      "outputs": [
        {
          "output_type": "stream",
          "name": "stderr",
          "text": [
            "WARNING:absl:Compiled the loaded model, but the compiled metrics have yet to be built. `model.compile_metrics` will be empty until you train or evaluate the model.\n",
            "WARNING:tensorflow:5 out of the last 12 calls to <function TensorFlowTrainer.make_predict_function.<locals>.one_step_on_data_distributed at 0x79fafb4549a0> triggered tf.function retracing. Tracing is expensive and the excessive number of tracings could be due to (1) creating @tf.function repeatedly in a loop, (2) passing tensors with different shapes, (3) passing Python objects instead of tensors. For (1), please define your @tf.function outside of the loop. For (2), @tf.function has reduce_retracing=True option that can avoid unnecessary retracing. For (3), please refer to https://www.tensorflow.org/guide/function#controlling_retracing and https://www.tensorflow.org/api_docs/python/tf/function for  more details.\n"
          ]
        },
        {
          "output_type": "stream",
          "name": "stdout",
          "text": [
            "\u001b[1m1/1\u001b[0m \u001b[32m━━━━━━━━━━━━━━━━━━━━\u001b[0m\u001b[37m\u001b[0m \u001b[1m0s\u001b[0m 268ms/step\n",
            "Extracted Keywords: ['fee', 'submission', 'deadline']\n"
          ]
        }
      ]
    }
  ]
}