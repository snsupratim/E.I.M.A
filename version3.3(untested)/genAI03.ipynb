{
  "nbformat": 4,
  "nbformat_minor": 0,
  "metadata": {
    "colab": {
      "provenance": [],
      "gpuType": "T4"
    },
    "kernelspec": {
      "name": "python3",
      "display_name": "Python 3"
    },
    "language_info": {
      "name": "python"
    },
    "accelerator": "GPU"
  },
  "cells": [
    {
      "cell_type": "code",
      "execution_count": null,
      "metadata": {
        "id": "41Zk9FbubJDf"
      },
      "outputs": [],
      "source": [
        "import nltk"
      ]
    },
    {
      "cell_type": "code",
      "source": [
        "nltk.download('punkt_tab')\n"
      ],
      "metadata": {
        "colab": {
          "base_uri": "https://localhost:8080/"
        },
        "id": "zvdNffqNc3Ck",
        "outputId": "7be6a0e2-1c74-4dab-a9b6-d2d53cfb0043"
      },
      "execution_count": null,
      "outputs": [
        {
          "output_type": "stream",
          "name": "stderr",
          "text": [
            "[nltk_data] Downloading package punkt_tab to /root/nltk_data...\n",
            "[nltk_data]   Package punkt_tab is already up-to-date!\n"
          ]
        },
        {
          "output_type": "execute_result",
          "data": {
            "text/plain": [
              "True"
            ]
          },
          "metadata": {},
          "execution_count": 38
        }
      ]
    },
    {
      "cell_type": "code",
      "source": [
        "from nltk.stem.porter import PorterStemmer\n",
        "stemmer=PorterStemmer()"
      ],
      "metadata": {
        "id": "tG2HAtbDcEav"
      },
      "execution_count": null,
      "outputs": []
    },
    {
      "cell_type": "code",
      "source": [
        "def tokenize(sentence):\n",
        "    \"\"\"\n",
        "    split sentence into array of words/tokens\n",
        "    a token can be a word or punctuation character, or number\n",
        "    \"\"\"\n",
        "    return nltk.word_tokenize(sentence)"
      ],
      "metadata": {
        "id": "wxuQPTTkcNLw"
      },
      "execution_count": null,
      "outputs": []
    },
    {
      "cell_type": "code",
      "source": [
        "def stem(word):\n",
        "    \"\"\"\n",
        "    stemming = find the root form of the word\n",
        "    examples:\n",
        "    words = [\"organize\", \"organizes\", \"organizing\"]\n",
        "    words = [stem(w) for w in words]\n",
        "    -> [\"organ\", \"organ\", \"organ\"]\n",
        "    \"\"\"\n",
        "    return stemmer.stem(word.lower())"
      ],
      "metadata": {
        "id": "JGXNL9ItcTKF"
      },
      "execution_count": null,
      "outputs": []
    },
    {
      "cell_type": "code",
      "source": [
        "a=\"How long does shipping take?\"\n",
        "print(a)\n",
        "a=tokenize(a)\n",
        "print(a)"
      ],
      "metadata": {
        "colab": {
          "base_uri": "https://localhost:8080/"
        },
        "id": "sE6OgoizcpIf",
        "outputId": "b2845fc1-80fa-406a-a3b3-0f3aaca5425f"
      },
      "execution_count": null,
      "outputs": [
        {
          "output_type": "stream",
          "name": "stdout",
          "text": [
            "How long does shipping take?\n",
            "['How', 'long', 'does', 'shipping', 'take', '?']\n"
          ]
        }
      ]
    },
    {
      "cell_type": "code",
      "source": [
        "def bag_of_words(tokenized_sentence, words):\n",
        "    \"\"\"\n",
        "    return bag of words array:\n",
        "    1 for each known word that exists in the sentence, 0 otherwise\n",
        "    example:\n",
        "    sentence = [\"hello\", \"how\", \"are\", \"you\"]\n",
        "    words = [\"hi\", \"hello\", \"I\", \"you\", \"bye\", \"thank\", \"cool\"]\n",
        "    bog   = [  0 ,    1 ,    0 ,   1 ,    0 ,    0 ,      0]\n",
        "    \"\"\"\n",
        "    # stem each word\n",
        "    sentence_words = [stem(word) for word in tokenized_sentence]\n",
        "    # initialize bag with 0 for each word\n",
        "    bag = np.zeros(len(words), dtype=np.float32)\n",
        "    for idx, w in enumerate(words):\n",
        "        if w in sentence_words:\n",
        "            bag[idx] = 1\n",
        "\n",
        "    return bag"
      ],
      "metadata": {
        "id": "qMB2mKAKchkX"
      },
      "execution_count": null,
      "outputs": []
    },
    {
      "cell_type": "markdown",
      "source": [
        "**Model**"
      ],
      "metadata": {
        "id": "AceQzHxHhI9D"
      }
    },
    {
      "cell_type": "code",
      "source": [
        "import torch\n",
        "import torch.nn as nn"
      ],
      "metadata": {
        "id": "s0S23wg9hLg7"
      },
      "execution_count": null,
      "outputs": []
    },
    {
      "cell_type": "code",
      "source": [
        "class NeuralNet(nn.Module):\n",
        "    def __init__(self, input_size, hidden_size, num_classes):\n",
        "        super(NeuralNet, self).__init__()\n",
        "        self.l1 = nn.Linear(input_size, hidden_size)\n",
        "        self.l2 = nn.Linear(hidden_size, hidden_size)\n",
        "        self.l3 = nn.Linear(hidden_size, num_classes)\n",
        "        self.relu = nn.ReLU()\n",
        "\n",
        "    def forward(self, x):\n",
        "        out = self.l1(x)\n",
        "        out = self.relu(out)\n",
        "        out = self.l2(out)\n",
        "        out = self.relu(out)\n",
        "        out = self.l3(out)\n",
        "        # no activation and no softmax at the end\n",
        "        return out"
      ],
      "metadata": {
        "id": "lJrqEnklhQm3"
      },
      "execution_count": null,
      "outputs": []
    },
    {
      "cell_type": "markdown",
      "source": [
        "**Training**"
      ],
      "metadata": {
        "id": "lMKqmoPAdWQ5"
      }
    },
    {
      "cell_type": "code",
      "source": [
        "# import json\n",
        "# with open('intents.json','r') as f:\n",
        "#   intents=json.load(f)\n",
        "\n",
        "#   print(intents)"
      ],
      "metadata": {
        "id": "oDiZFfo7dTy3"
      },
      "execution_count": null,
      "outputs": []
    },
    {
      "cell_type": "code",
      "source": [
        "import json\n",
        "with open('intents.json','r') as f:\n",
        "  intents=json.load(f)\n",
        "\n",
        "  print(intents)"
      ],
      "metadata": {
        "colab": {
          "base_uri": "https://localhost:8080/"
        },
        "id": "z5EL9ha4py9F",
        "outputId": "9888ddce-dd24-4b69-b5e6-5a27ac1624cc"
      },
      "execution_count": null,
      "outputs": [
        {
          "output_type": "stream",
          "name": "stdout",
          "text": [
            "{'intents': [{'tag': 'admissions', 'patterns': ['How can I apply for admission?', 'What are the admission requirements?', 'When is the application deadline?', 'Can I apply online?'], 'responses': ['You can apply for admission through our online portal. Visit the Admissions section on our website for more details.', 'Admission requirements vary by program. Please check the program-specific details in the Admissions section.', 'The application deadline depends on the program. Please refer to the academic calendar on the website.', 'Yes, you can apply online by visiting the Admissions section on our website.']}, {'tag': 'courses', 'patterns': ['What courses are offered?', 'Do you have engineering programs?', 'Can I see a list of courses?', 'What are the popular programs?'], 'responses': ['We offer a wide range of programs, including engineering, business, arts, and sciences. Visit the Programs section for a detailed list.', 'Yes, we have engineering programs. You can choose from various specializations such as Computer Science, Mechanical, and Civil.', 'You can find a complete list of courses in the Courses section of our website.', 'Some of our popular programs include Computer Science, Business Administration, and Data Science.']}, {'tag': 'fees', 'patterns': ['What is the tuition fee?', 'How much does the MBA program cost?', 'Are there any scholarships available?', 'What is the fee structure?'], 'responses': ['The tuition fees vary by program. Please visit the Fees and Scholarships section for detailed information.', 'The MBA program fee is available on the website under the Fees section. Scholarships may also be available.', 'Yes, we offer scholarships based on merit and need. Please visit the Scholarships section for more details.', 'The fee structure can be found in the Fees section of our website.']}, {'tag': 'events', 'patterns': ['What events are happening on campus?', 'Do you have any upcoming seminars?', 'When is the next cultural fest?', 'Tell me about college events.'], 'responses': ['You can find the latest events and seminars in the Events section of our website.', 'Our cultural fest is scheduled for next month. Stay tuned for updates in the Events section.', 'We host various events throughout the year, including workshops, fests, and competitions. Check the Events section for more information.']}, {'tag': 'facilities', 'patterns': ['Do you have a library?', 'What facilities are available on campus?', 'Is there a sports complex?', 'Tell me about the campus facilities.'], 'responses': ['Yes, we have a state-of-the-art library, labs, sports complex, and more. Visit the Facilities section for details.', 'Our campus is equipped with modern facilities, including a library, sports complex, and hostel accommodations.', 'Yes, we have a sports complex with facilities for basketball, cricket, football, and more.', 'You can explore all the campus facilities in the Facilities section of our website.']}, {'tag': 'contact', 'patterns': ['How can I contact the college?', 'What is the college email address?', 'Is there a phone number for inquiries?', 'How can I reach the admissions office?'], 'responses': ['You can contact us via email at info@college.edu or call us at +123-456-7890.', 'The admissions office can be reached at admissions@college.edu or +123-456-7891.', 'Visit the Contact Us page on our website for detailed contact information.']}, {'tag': 'hostel', 'patterns': ['Do you have hostel facilities?', 'What are the hostel charges?', 'Is there separate accommodation for boys and girls?', 'Tell me about the hostel facilities.'], 'responses': ['Yes, we provide hostel facilities for both boys and girls with separate accommodations.', 'The hostel charges vary depending on the type of room. Please visit the Hostel section on our website for details.', 'Our hostels are equipped with modern amenities, including Wi-Fi, mess, and recreational facilities. Visit the Hostel section for more information.']}, {'tag': 'placement', 'patterns': ['What are the placement statistics?', 'Do you have a placement cell?', 'Which companies visit for campus placements?', 'Tell me about the placement process.'], 'responses': ['Our placement cell helps students secure internships and jobs with top companies. Visit the Placements section for more details.', 'Companies like Google, Amazon, TCS, and Infosys regularly visit our campus for placements.', 'You can find the latest placement statistics in the Placements section of our website.', 'The placement process involves pre-placement talks, aptitude tests, interviews, and final selections. Check the Placements section for more details.']}, {'tag': 'academic_calendar', 'patterns': ['What is the academic calendar?', 'When does the semester start?', 'What are the holidays this year?', 'Tell me about the academic schedule.'], 'responses': ['You can find the academic calendar, including semester start dates and holidays, in the Academic Calendar section on our website.', 'The semester usually starts in August and January. Check the Academic Calendar for exact dates.', 'A list of holidays and important dates is available in the Academic Calendar section.']}, {'tag': 'scholarships', 'patterns': ['What scholarships are available?', 'Do you offer financial aid?', 'How can I apply for scholarships?', 'Tell me about merit-based scholarships.'], 'responses': ['We offer scholarships based on academic performance and financial need. Visit the Scholarships section for details.', 'Yes, financial aid is available for eligible students. Please check the Scholarships section for the application process.', 'You can apply for scholarships through the Scholarships section of our website. Make sure to meet the eligibility criteria.', 'Merit-based scholarships are awarded to top-performing students. Visit the Scholarships section for more information.']}, {'tag': 'transportation', 'patterns': ['Do you provide transportation facilities?', 'Is there a bus service for students?', 'What are the transport charges?', 'Tell me about campus transportation.'], 'responses': ['Yes, we provide transportation facilities with buses covering major routes.', 'The transport charges vary by distance. Visit the Transportation section on our website for details.', 'Our campus transportation is reliable and ensures student safety. Check the Transportation section for more information.']}, {'tag': 'internships', 'patterns': ['Are internships mandatory?', 'Do you help students find internships?', 'What internship opportunities are available?', 'Tell me about the internship programs.'], 'responses': ['Yes, internships are an integral part of our curriculum for most programs.', 'Our placement cell assists students in finding internships with top organizations.', 'Internship opportunities are available in various domains, including technology, business, and research. Check the Internships section for details.', 'Visit the Internships section on our website to learn more about ongoing internship programs.']}, {'tag': 'clubs', 'patterns': ['What student clubs are there?', 'Do you have technical clubs?', 'Are there cultural activities?', 'Tell me about student organizations.'], 'responses': ['We have a variety of student clubs, including technical, cultural, and sports clubs. Visit the Clubs section for more details.', 'Yes, we have technical clubs like the Coding Club, Robotics Club, and AI Club.', 'Cultural activities include music, dance, drama, and more. Join the Cultural Club for exciting events.', 'Student organizations offer great opportunities to connect, learn, and grow. Check the Clubs section for more information.']}, {'tag': 'library', 'patterns': ['What are the library timings?', 'Do you have an online library?', 'Can I borrow books from the library?', 'Tell me about the library facilities.'], 'responses': ['The library is open from 8 AM to 8 PM on weekdays and 9 AM to 5 PM on weekends.', 'Yes, we have an online library portal where you can access e-books and journals.', 'Students can borrow books for a specific duration. Check the Library section for the borrowing policy.', 'Our library is well-equipped with books, e-resources, and study spaces. Visit the Library section for more details.']}]}\n"
          ]
        }
      ]
    },
    {
      "cell_type": "code",
      "source": [
        "all_words=[]\n",
        "tags=[]\n",
        "xy=[]\n",
        "\n",
        "for intent in intents['intents']:\n",
        "  tag=intent['tag']\n",
        "  tags.append(tag)\n",
        "  for pattern in intent['patterns']:\n",
        "    w=tokenize(pattern)\n",
        "    all_words.extend(w)\n",
        "    xy.append((w,tag))\n",
        "\n",
        "# stem and lower each word\n",
        "ignore_words = ['?', '.', '!']\n",
        "all_words = [stem(w) for w in all_words if w not in ignore_words]\n",
        "# remove duplicates and sort\n",
        "all_words = sorted(set(all_words))\n",
        "tags = sorted(set(tags))\n",
        "\n",
        "print(len(xy), \"patterns\")\n",
        "print(len(tags), \"tags:\", tags)\n",
        "print(len(all_words), \"unique stemmed words:\", all_words)"
      ],
      "metadata": {
        "colab": {
          "base_uri": "https://localhost:8080/"
        },
        "id": "clHAUQtZd5Nh",
        "outputId": "f5e0e8f3-2633-4d06-b785-5c21d4aca754"
      },
      "execution_count": null,
      "outputs": [
        {
          "output_type": "stream",
          "name": "stdout",
          "text": [
            "56 patterns\n",
            "14 tags: ['academic_calendar', 'admissions', 'clubs', 'contact', 'courses', 'events', 'facilities', 'fees', 'hostel', 'internships', 'library', 'placement', 'scholarships', 'transportation']\n",
            "107 unique stemmed words: ['a', 'about', 'academ', 'accommod', 'activ', 'address', 'admiss', 'aid', 'an', 'and', 'ani', 'appli', 'applic', 'are', 'avail', 'book', 'borrow', 'boy', 'bu', 'calendar', 'campu', 'can', 'cell', 'charg', 'club', 'colleg', 'compani', 'complex', 'contact', 'cost', 'cours', 'cultur', 'deadlin', 'do', 'doe', 'email', 'engin', 'event', 'facil', 'fee', 'fest', 'financi', 'find', 'for', 'from', 'girl', 'happen', 'have', 'help', 'holiday', 'hostel', 'how', 'i', 'inquiri', 'internship', 'is', 'librari', 'list', 'mandatori', 'mba', 'me', 'merit-bas', 'much', 'next', 'number', 'of', 'offer', 'offic', 'on', 'onlin', 'opportun', 'organ', 'phone', 'placement', 'popular', 'process', 'program', 'provid', 'reach', 'requir', 'schedul', 'scholarship', 'see', 'semest', 'seminar', 'separ', 'servic', 'sport', 'start', 'statist', 'structur', 'student', 'technic', 'tell', 'the', 'there', 'thi', 'time', 'transport', 'tuition', 'upcom', 'visit', 'what', 'when', 'which', 'year', 'you']\n"
          ]
        }
      ]
    },
    {
      "cell_type": "code",
      "source": [
        "import numpy as np"
      ],
      "metadata": {
        "id": "Fm4qfOdWfNmt"
      },
      "execution_count": null,
      "outputs": []
    },
    {
      "cell_type": "code",
      "source": [
        "# create training data\n",
        "X_train = []\n",
        "y_train = []\n",
        "for (pattern_sentence, tag) in xy:\n",
        "    # X: bag of words for each pattern_sentence\n",
        "    bag = bag_of_words(pattern_sentence, all_words)\n",
        "    X_train.append(bag)\n",
        "    # y: PyTorch CrossEntropyLoss needs only class labels, not one-hot\n",
        "    label = tags.index(tag)\n",
        "    y_train.append(label)\n",
        "\n",
        "X_train = np.array(X_train)\n",
        "y_train = np.array(y_train)\n"
      ],
      "metadata": {
        "id": "T5KZT-unfBK7"
      },
      "execution_count": null,
      "outputs": []
    },
    {
      "cell_type": "code",
      "source": [
        "# print(X_train)\n",
        "# print(y_train)"
      ],
      "metadata": {
        "id": "aVPES3GQfY9Y"
      },
      "execution_count": null,
      "outputs": []
    },
    {
      "cell_type": "code",
      "source": [
        "# pip install model"
      ],
      "metadata": {
        "id": "pLYffP7vgvrl"
      },
      "execution_count": null,
      "outputs": []
    },
    {
      "cell_type": "code",
      "source": [
        "import torch\n",
        "import torch.nn as nn\n",
        "from torch.utils.data import Dataset, DataLoader"
      ],
      "metadata": {
        "id": "oJaFt2P7fjp_"
      },
      "execution_count": null,
      "outputs": []
    },
    {
      "cell_type": "code",
      "source": [
        "# Hyper-parameters\n",
        "num_epochs = 1000\n",
        "batch_size = 8\n",
        "learning_rate = 0.001\n",
        "input_size = len(X_train[0])\n",
        "hidden_size = 8\n",
        "output_size = len(tags)\n",
        "print(input_size, output_size)\n"
      ],
      "metadata": {
        "colab": {
          "base_uri": "https://localhost:8080/"
        },
        "id": "0yp5zvnOgX_w",
        "outputId": "795ced66-ad45-4784-9398-8a32db1ec8d3"
      },
      "execution_count": null,
      "outputs": [
        {
          "output_type": "stream",
          "name": "stdout",
          "text": [
            "107 14\n"
          ]
        }
      ]
    },
    {
      "cell_type": "code",
      "source": [
        "class ChatDataset(Dataset):\n",
        "\n",
        "    def __init__(self):\n",
        "        self.n_samples = len(X_train)\n",
        "        self.x_data = X_train\n",
        "        self.y_data = y_train\n",
        "\n",
        "    # support indexing such that dataset[i] can be used to get i-th sample\n",
        "    def __getitem__(self, index):\n",
        "        return self.x_data[index], self.y_data[index]\n",
        "\n",
        "    # we can call len(dataset) to return the size\n",
        "    def __len__(self):\n",
        "        return self.n_samples\n",
        "\n",
        "dataset = ChatDataset()\n",
        "train_loader = DataLoader(dataset=dataset,\n",
        "                          batch_size=batch_size,\n",
        "                          shuffle=True,\n",
        "                          num_workers=0)\n",
        "\n",
        "device = torch.device('cuda' if torch.cuda.is_available() else 'cpu')\n",
        "\n",
        "model = NeuralNet(input_size, hidden_size, output_size).to(device)"
      ],
      "metadata": {
        "id": "zYUwoWB7f47y"
      },
      "execution_count": null,
      "outputs": []
    },
    {
      "cell_type": "code",
      "source": [
        "# Loss and optimizer\n",
        "criterion = nn.CrossEntropyLoss()\n",
        "optimizer = torch.optim.Adam(model.parameters(), lr=learning_rate)\n"
      ],
      "metadata": {
        "id": "9ZEXWo-HhfLI"
      },
      "execution_count": null,
      "outputs": []
    },
    {
      "cell_type": "code",
      "source": [
        "# Train the model\n",
        "for epoch in range(num_epochs):\n",
        "    for (words, labels) in train_loader:\n",
        "        words = words.to(device)\n",
        "        labels = labels.to(dtype=torch.long).to(device)\n",
        "\n",
        "        # Forward pass\n",
        "        outputs = model(words)\n",
        "        # if y would be one-hot, we must apply\n",
        "        # labels = torch.max(labels, 1)[1]\n",
        "        loss = criterion(outputs, labels)\n",
        "\n",
        "        # Backward and optimize\n",
        "        optimizer.zero_grad()\n",
        "        loss.backward()\n",
        "        optimizer.step()\n",
        "\n",
        "    if (epoch+1) % 100 == 0:\n",
        "        print (f'Epoch [{epoch+1}/{num_epochs}], Loss: {loss.item():.4f}')\n",
        "\n",
        "\n",
        "print(f'final loss: {loss.item():.4f}')"
      ],
      "metadata": {
        "colab": {
          "base_uri": "https://localhost:8080/"
        },
        "id": "_zA6SUi1humZ",
        "outputId": "8433751d-be9a-45e5-9ee3-4497fdedafce"
      },
      "execution_count": null,
      "outputs": [
        {
          "output_type": "stream",
          "name": "stdout",
          "text": [
            "Epoch [100/1000], Loss: 0.6870\n",
            "Epoch [200/1000], Loss: 0.0417\n",
            "Epoch [300/1000], Loss: 0.0283\n",
            "Epoch [400/1000], Loss: 0.0052\n",
            "Epoch [500/1000], Loss: 0.0047\n",
            "Epoch [600/1000], Loss: 0.0015\n",
            "Epoch [700/1000], Loss: 0.0009\n",
            "Epoch [800/1000], Loss: 0.0009\n",
            "Epoch [900/1000], Loss: 0.0003\n",
            "Epoch [1000/1000], Loss: 0.0003\n",
            "final loss: 0.0003\n"
          ]
        }
      ]
    },
    {
      "cell_type": "code",
      "source": [
        "data = {\n",
        "\"model_state\": model.state_dict(),\n",
        "\"input_size\": input_size,\n",
        "\"hidden_size\": hidden_size,\n",
        "\"output_size\": output_size,\n",
        "\"all_words\": all_words,\n",
        "\"tags\": tags\n",
        "}"
      ],
      "metadata": {
        "id": "FBRnYRonh0pV"
      },
      "execution_count": null,
      "outputs": []
    },
    {
      "cell_type": "code",
      "source": [
        "# FILE = \"data.pth\"\n",
        "# torch.save(data, FILE)\n",
        "\n",
        "# print(f'training complete. file saved to {FILE}')"
      ],
      "metadata": {
        "colab": {
          "base_uri": "https://localhost:8080/"
        },
        "id": "AYGoEkMwiOij",
        "outputId": "4edac455-75d4-4b88-8842-4bdbe90082b6"
      },
      "execution_count": null,
      "outputs": [
        {
          "output_type": "stream",
          "name": "stdout",
          "text": [
            "training complete. file saved to data.pth\n"
          ]
        }
      ]
    },
    {
      "cell_type": "code",
      "source": [
        "FILE = \"genai05.pth\"\n",
        "torch.save(data, FILE)\n",
        "\n",
        "print(f'training complete. file saved to {FILE}')"
      ],
      "metadata": {
        "colab": {
          "base_uri": "https://localhost:8080/"
        },
        "id": "D0mLOBKWqSXJ",
        "outputId": "1c6c5500-29be-44b6-81fe-d64b557ac1c7"
      },
      "execution_count": null,
      "outputs": [
        {
          "output_type": "stream",
          "name": "stdout",
          "text": [
            "training complete. file saved to genai05.pth\n"
          ]
        }
      ]
    },
    {
      "cell_type": "markdown",
      "source": [
        "**chat**"
      ],
      "metadata": {
        "id": "WRPKC7PGilIJ"
      }
    },
    {
      "cell_type": "code",
      "source": [
        "import random\n",
        "import json\n",
        "\n",
        "import torch\n",
        "\n",
        "\n",
        "\n",
        "device = torch.device('cuda' if torch.cuda.is_available() else 'cpu')\n",
        "\n",
        "with open('intents.json', 'r') as json_data:\n",
        "    intents = json.load(json_data)\n",
        "\n",
        "FILE = \"genai05.pth\"\n",
        "data = torch.load(FILE)\n"
      ],
      "metadata": {
        "colab": {
          "base_uri": "https://localhost:8080/"
        },
        "id": "DCeVC0uNivz6",
        "outputId": "06f372f7-f040-466c-e8e0-3697ba970cca"
      },
      "execution_count": null,
      "outputs": [
        {
          "output_type": "stream",
          "name": "stderr",
          "text": [
            "<ipython-input-73-560f4911eb5b>:14: FutureWarning: You are using `torch.load` with `weights_only=False` (the current default value), which uses the default pickle module implicitly. It is possible to construct malicious pickle data which will execute arbitrary code during unpickling (See https://github.com/pytorch/pytorch/blob/main/SECURITY.md#untrusted-models for more details). In a future release, the default value for `weights_only` will be flipped to `True`. This limits the functions that could be executed during unpickling. Arbitrary objects will no longer be allowed to be loaded via this mode unless they are explicitly allowlisted by the user via `torch.serialization.add_safe_globals`. We recommend you start setting `weights_only=True` for any use case where you don't have full control of the loaded file. Please open an issue on GitHub for any issues related to this experimental feature.\n",
            "  data = torch.load(FILE)\n"
          ]
        }
      ]
    },
    {
      "cell_type": "markdown",
      "source": [
        "change ['intents'] to requires json file name"
      ],
      "metadata": {
        "id": "XKbpNi8eqzoD"
      }
    },
    {
      "cell_type": "code",
      "source": [
        "input_size = data[\"input_size\"]\n",
        "hidden_size = data[\"hidden_size\"]\n",
        "output_size = data[\"output_size\"]\n",
        "all_words = data['all_words']\n",
        "tags = data['tags']\n",
        "model_state = data[\"model_state\"]\n",
        "\n",
        "model = NeuralNet(input_size, hidden_size, output_size).to(device)\n",
        "model.load_state_dict(model_state)\n",
        "model.eval()\n",
        "\n",
        "bot_name = \"Sam\"\n",
        "print(\"Let's chat! (type 'quit' to exit)\")\n",
        "while True:\n",
        "    # sentence = \"do you use credit cards?\"\n",
        "    sentence = input(\"You: \")\n",
        "    if sentence == \"quit\":\n",
        "        break\n",
        "\n",
        "    sentence = tokenize(sentence)\n",
        "    X = bag_of_words(sentence, all_words)\n",
        "    X = X.reshape(1, X.shape[0])\n",
        "    X = torch.from_numpy(X).to(device)\n",
        "\n",
        "    output = model(X)\n",
        "    _, predicted = torch.max(output, dim=1)\n",
        "\n",
        "    tag = tags[predicted.item()]\n",
        "\n",
        "    probs = torch.softmax(output, dim=1)\n",
        "    prob = probs[0][predicted.item()]\n",
        "    if prob.item() > 0.75 :\n",
        "        for intent in intents['intents']:\n",
        "            if tag == intent[\"tag\"]:\n",
        "                print(f\"{bot_name}: {random.choice(intent['responses'])}\")\n",
        "    else:\n",
        "        print(f\"{bot_name}: I do not understand...\")"
      ],
      "metadata": {
        "colab": {
          "base_uri": "https://localhost:8080/"
        },
        "id": "uoxDJLh4im7v",
        "outputId": "f41078e2-eac9-41a6-f4c0-1e5864af6ebf"
      },
      "execution_count": null,
      "outputs": [
        {
          "name": "stdout",
          "output_type": "stream",
          "text": [
            "Let's chat! (type 'quit' to exit)\n",
            "You: quit\n"
          ]
        }
      ]
    }
  ]
}