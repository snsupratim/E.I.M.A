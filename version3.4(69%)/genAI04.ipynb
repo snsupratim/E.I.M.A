{
  "nbformat": 4,
  "nbformat_minor": 0,
  "metadata": {
    "colab": {
      "provenance": [],
      "gpuType": "T4"
    },
    "kernelspec": {
      "name": "python3",
      "display_name": "Python 3"
    },
    "language_info": {
      "name": "python"
    },
    "accelerator": "GPU"
  },
  "cells": [
    {
      "cell_type": "code",
      "execution_count": 1,
      "metadata": {
        "id": "WlbYP5So0isp"
      },
      "outputs": [],
      "source": [
        "import nltk\n",
        "import random\n",
        "import json\n",
        "import numpy as np\n",
        "import torch\n",
        "import torch.nn as nn\n",
        "from torch.utils.data import Dataset, DataLoader"
      ]
    },
    {
      "cell_type": "code",
      "source": [
        "# Download necessary NLTK resources\n",
        "nltk.download('punkt_tab')\n"
      ],
      "metadata": {
        "colab": {
          "base_uri": "https://localhost:8080/"
        },
        "id": "u8slBq1504Nm",
        "outputId": "5e71772a-8c3c-41e3-d465-1cc25fe79429"
      },
      "execution_count": 9,
      "outputs": [
        {
          "output_type": "stream",
          "name": "stderr",
          "text": [
            "[nltk_data] Downloading package punkt_tab to /root/nltk_data...\n",
            "[nltk_data]   Unzipping tokenizers/punkt_tab.zip.\n"
          ]
        },
        {
          "output_type": "execute_result",
          "data": {
            "text/plain": [
              "True"
            ]
          },
          "metadata": {},
          "execution_count": 9
        }
      ]
    },
    {
      "cell_type": "code",
      "source": [
        "# Load intents from JSON file\n",
        "with open('intents.json', 'r') as f:\n",
        "    intents = json.load(f)"
      ],
      "metadata": {
        "id": "NetfuDTy048v"
      },
      "execution_count": 10,
      "outputs": []
    },
    {
      "cell_type": "code",
      "source": [
        "#  Initialize stemmer\n",
        "from nltk.stem.porter import PorterStemmer\n",
        "stemmer = PorterStemmer()\n",
        "\n",
        "def tokenize(sentence):\n",
        "    \"\"\"Split sentence into array of words/tokens.\"\"\"\n",
        "    return nltk.word_tokenize(sentence)\n",
        "\n",
        "def stem(word):\n",
        "    \"\"\"Find the root form of the word.\"\"\"\n",
        "    return stemmer.stem(word.lower())\n",
        "\n",
        "def bag_of_words(tokenized_sentence, words):\n",
        "    \"\"\"Return bag of words array.\"\"\"\n",
        "    sentence_words = [stem(word) for word in tokenized_sentence]\n",
        "    bag = np.zeros(len(words), dtype=np.float32)\n",
        "    for idx, w in enumerate(words):\n",
        "        if w in sentence_words:\n",
        "            bag[idx] = 1\n",
        "    return bag"
      ],
      "metadata": {
        "id": "T7tq0zX13f7b"
      },
      "execution_count": 11,
      "outputs": []
    },
    {
      "cell_type": "code",
      "source": [
        "def get_response(user_input):\n",
        "    \"\"\"Get a response based on user input.\"\"\"\n",
        "    tokens = tokenize(user_input.lower())\n",
        "\n",
        "    # Check for keyword matches first\n",
        "    for intent in intents['intents']:\n",
        "        if any(keyword in tokens for keyword in intent.get('keywords', [])):\n",
        "            return random.choice(intent['responses'])\n",
        "\n",
        "    # Fallback to pattern matching if no keywords matched\n",
        "    for intent in intents['intents']:\n",
        "        for pattern in intent['patterns']:\n",
        "            if nltk.edit_distance(user_input.lower(), pattern.lower()) < 3:  # Example threshold\n",
        "                return random.choice(intent['responses'])\n",
        "\n",
        "    return \"I'm sorry, I don't understand.\""
      ],
      "metadata": {
        "id": "zyzuErsy3mUn"
      },
      "execution_count": 12,
      "outputs": []
    },
    {
      "cell_type": "code",
      "source": [
        "class NeuralNet(nn.Module):\n",
        "    def __init__(self, input_size, hidden_size, num_classes):\n",
        "        super(NeuralNet, self).__init__()\n",
        "        self.l1 = nn.Linear(input_size, hidden_size)\n",
        "        self.l2 = nn.Linear(hidden_size, hidden_size)\n",
        "        self.l3 = nn.Linear(hidden_size, num_classes)\n",
        "        self.relu = nn.ReLU()\n",
        "\n",
        "    def forward(self, x):\n",
        "        out = self.l1(x)\n",
        "        out = self.relu(out)\n",
        "        out = self.l2(out)\n",
        "        out = self.relu(out)\n",
        "        out = self.l3(out)\n",
        "        return out"
      ],
      "metadata": {
        "id": "DeZQCN7A3xSI"
      },
      "execution_count": 13,
      "outputs": []
    },
    {
      "cell_type": "code",
      "source": [
        "# Prepare training data\n",
        "all_words = []\n",
        "tags = []\n",
        "xy = []\n",
        "\n",
        "for intent in intents['intents']:\n",
        "    tag = intent['tag']\n",
        "    tags.append(tag)\n",
        "    for pattern in intent['patterns']:\n",
        "        w = tokenize(pattern)\n",
        "        all_words.extend(w)\n",
        "        xy.append((w, tag))\n",
        "\n",
        "# Stem and lower each word\n",
        "ignore_words = ['?', '.', '!']\n",
        "all_words = [stem(w) for w in all_words if w not in ignore_words]\n",
        "all_words = sorted(set(all_words))\n",
        "tags = sorted(set(tags))"
      ],
      "metadata": {
        "id": "twaXZGrm3zr8"
      },
      "execution_count": 14,
      "outputs": []
    },
    {
      "cell_type": "code",
      "source": [
        "# Create training data\n",
        "X_train = []\n",
        "y_train = []\n",
        "for (pattern_sentence, tag) in xy:\n",
        "    bag = bag_of_words(pattern_sentence, all_words)\n",
        "    X_train.append(bag)\n",
        "    label = tags.index(tag)\n",
        "    y_train.append(label)\n",
        "\n",
        "X_train = np.array(X_train)\n",
        "y_train = np.array(y_train)"
      ],
      "metadata": {
        "id": "P0Sfpidz4Aie"
      },
      "execution_count": 15,
      "outputs": []
    },
    {
      "cell_type": "code",
      "source": [
        "\n",
        "# Hyper-parameters\n",
        "num_epochs = 1000\n",
        "batch_size = 8\n",
        "learning_rate = 0.001\n",
        "input_size = len(X_train[0])\n",
        "hidden_size = 8\n",
        "output_size = len(tags)\n"
      ],
      "metadata": {
        "id": "_eCffMQu4BKD"
      },
      "execution_count": 16,
      "outputs": []
    },
    {
      "cell_type": "code",
      "source": [
        "class ChatDataset(Dataset):\n",
        "    def __init__(self):\n",
        "        self.n_samples = len(X_train)\n",
        "        self.x_data = X_train\n",
        "        self.y_data = y_train\n",
        "\n",
        "    def __getitem__(self, index):\n",
        "        return self.x_data[index], self.y_data[index]\n",
        "\n",
        "    def __len__(self):\n",
        "        return self.n_samples\n",
        "\n",
        "dataset = ChatDataset()\n",
        "train_loader = DataLoader(dataset=dataset,\n",
        "                          batch_size=batch_size,\n",
        "                          shuffle=True,\n",
        "                          num_workers=0)\n",
        "\n",
        "device = torch.device('cuda' if torch.cuda.is_available() else 'cpu')\n",
        "\n",
        "model = NeuralNet(input_size, hidden_size, output_size).to(device)\n",
        "\n",
        "# Loss and optimizer\n",
        "criterion = nn.CrossEntropyLoss()\n",
        "optimizer = torch.optim.Adam(model.parameters(), lr=learning_rate)\n"
      ],
      "metadata": {
        "id": "LvQqHXUb4KR4"
      },
      "execution_count": 17,
      "outputs": []
    },
    {
      "cell_type": "code",
      "source": [
        "# Train the model\n",
        "for epoch in range(num_epochs):\n",
        "    for (words, labels) in train_loader:\n",
        "        words = words.to(device)\n",
        "        labels = labels.to(dtype=torch.long).to(device)\n",
        "\n",
        "        outputs = model(words)\n",
        "        loss = criterion(outputs, labels)\n",
        "\n",
        "        optimizer.zero_grad()\n",
        "        loss.backward()\n",
        "        optimizer.step()\n",
        "\n",
        "    if (epoch + 1) % 100 == 0:\n",
        "        print(f'Epoch [{epoch + 1}/{num_epochs}], Loss: {loss.item():.4f}')\n",
        "\n",
        "print(f'Final loss: {loss.item():.4f}')\n"
      ],
      "metadata": {
        "colab": {
          "base_uri": "https://localhost:8080/"
        },
        "id": "YtmMA1l-4LvA",
        "outputId": "3c271f52-904d-4f74-be73-d2656845e335"
      },
      "execution_count": 18,
      "outputs": [
        {
          "output_type": "stream",
          "name": "stdout",
          "text": [
            "Epoch [100/1000], Loss: 0.6500\n",
            "Epoch [200/1000], Loss: 0.1154\n",
            "Epoch [300/1000], Loss: 0.0210\n",
            "Epoch [400/1000], Loss: 0.0070\n",
            "Epoch [500/1000], Loss: 0.0039\n",
            "Epoch [600/1000], Loss: 0.0010\n",
            "Epoch [700/1000], Loss: 0.0013\n",
            "Epoch [800/1000], Loss: 0.0006\n",
            "Epoch [900/1000], Loss: 0.0004\n",
            "Epoch [1000/1000], Loss: 0.0002\n",
            "Final loss: 0.0002\n"
          ]
        }
      ]
    },
    {
      "cell_type": "code",
      "source": [
        "data = {\n",
        "    \"model_state\": model.state_dict(),\n",
        "    \"input_size\": input_size,\n",
        "    \"hidden_size\": hidden_size,\n",
        "    \"output_size\": output_size,\n",
        "    \"all_words\": all_words,\n",
        "    \"tags\": tags\n",
        "}\n",
        "\n",
        "FILE = \"chatbot_model.pth\"\n",
        "torch.save(data, FILE)\n",
        "\n",
        "print(f'Training complete. File saved to {FILE}')\n"
      ],
      "metadata": {
        "colab": {
          "base_uri": "https://localhost:8080/"
        },
        "id": "ltnNEyIY4Pns",
        "outputId": "c189ee55-e3d3-4286-fb43-1b106581b26a"
      },
      "execution_count": 22,
      "outputs": [
        {
          "output_type": "stream",
          "name": "stdout",
          "text": [
            "Training complete. File saved to chatbot_model.pth\n"
          ]
        }
      ]
    },
    {
      "cell_type": "code",
      "source": [
        "def evaluate_model(test_data):\n",
        "    correct_predictions = 0\n",
        "\n",
        "    for user_input, expected_tag in test_data:\n",
        "        # Generate response based on user input\n",
        "        response_tag_index = model(torch.from_numpy(bag_of_words(tokenize(user_input), all_words)).float().to(device)).argmax().item()\n",
        "\n",
        "        # Get predicted tag from index\n",
        "        predicted_tag = tags[response_tag_index]\n",
        "\n",
        "        # Compare predicted tag with expected tag\n",
        "        if predicted_tag == expected_tag:\n",
        "            correct_predictions += 1\n",
        "\n",
        "    accuracy = correct_predictions / len(test_data) * 100  # Convert to percentage\n",
        "    print(f'Accuracy: {accuracy:.2f}%')\n",
        "\n",
        "# Example test data (user input and expected response tag)\n",
        "test_data = [\n",
        "    (\"How to apply for admission?\", \"admissions\"),\n",
        "    (\"What are the admission policies?\", \"admissions\"),\n",
        "    (\"What courses are offered over here?\", \"courses\"),\n",
        "    (\"How much does the MBA program cost?\", \"fees\"),\n",
        "    (\"Can I apply for admission online?\", \"admissions\"),\n",
        "    (\"What are the prerequisites for applying?\", \"admissions\"),\n",
        "    (\"When is the last date to apply?\", \"admissions\"),\n",
        "    (\"Can I apply after the deadline?\", \"admissions\"),\n",
        "    (\"Do you offer computer science courses?\", \"courses\"),\n",
        "    (\"Which engineering courses do you offer?\", \"courses\"),\n",
        "    (\"Is there an engineering program in Artificial Intelligence?\", \"courses\"),\n",
        "    (\"What is the tuition fee for MBA?\", \"fees\"),\n",
        "    (\"Are there any discounts available on the course fees?\", \"fees\"),\n",
        "    (\"Do you have scholarships for international students?\", \"fees\"),\n",
        "    (\"What scholarships do you provide?\", \"scholarships\"),\n",
        "    (\"How can I apply for financial aid?\", \"scholarships\"),\n",
        "    (\"Can I get a scholarship if I am not a top performer?\", \"scholarships\"),\n",
        "    (\"Is there any scholarship for economically disadvantaged students?\", \"scholarships\"),\n",
        "    (\"What is the deadline for applications?\", \"admissions\"),\n",
        "    (\"How do I apply for your courses?\", \"courses\"),\n",
        "    (\"Do you have engineering programs?\", \"courses\"),\n",
        "    (\"Are there any cultural events this month?\", \"events\"),\n",
        "    (\"Can I attend campus events as an external guest?\", \"events\"),\n",
        "    (\"Do you host any guest lectures?\", \"events\"),\n",
        "    (\"Is there any placement for business management students?\", \"placement\"),\n",
        "    (\"What are the placement opportunities for mechanical engineers?\", \"placement\"),\n",
        "    (\"What is the minimum CGPA required for campus placement?\", \"placement\"),\n",
        "    (\"Can I contact the college for internship opportunities?\", \"contact\"),\n",
        "    (\"How do I reach out to the placement office?\", \"contact\"),\n",
        "    (\"What facilities are available for students in the hostel?\", \"hostel\"),\n",
        "    (\"Is there a laundry service in the hostel?\", \"hostel\"),\n",
        "    (\"Do you have a common kitchen in the hostel?\", \"hostel\"),\n",
        "    (\"What is the cost of the hostel for the entire year?\", \"hostel\"),\n",
        "    (\"How do I get information about campus transportation?\", \"transportation\"),\n",
        "    (\"Do you provide shuttle services for students?\", \"transportation\"),\n",
        "    (\"How much is the transportation charge for daily travel?\", \"transportation\"),\n",
        "    (\"Is the transportation service available on weekends?\", \"transportation\"),\n",
        "    (\"Can I use the library facilities remotely?\", \"library\"),\n",
        "    (\"Do you offer online books in the library?\", \"library\"),\n",
        "    (\"Can I borrow books for more than 15 days?\", \"library\"),\n",
        "    (\"Are there library workshops for students?\", \"library\"),\n",
        "    (\"What are the campus facilities available for non-students?\", \"facilities\"),\n",
        "    (\"Do you have sports facilities for alumni?\", \"facilities\"),\n",
        "    (\"Are there conference rooms in the library?\", \"facilities\"),\n",
        "    (\"What student clubs are available for business students?\", \"clubs\"),\n",
        "    (\"Are there any coding competitions hosted by the college?\", \"clubs\"),\n",
        "    (\"What types of cultural activities are there?\", \"clubs\"),\n",
        "    (\"Can I join technical clubs even if I'm not from a technical background?\", \"clubs\"),\n",
        "    (\"Do you have internships available for first-year students?\", \"internships\"),\n",
        "    (\"Is there an internship program for computer science students?\", \"internships\"),\n",
        "    (\"Are internships paid?\", \"internships\"),\n",
        "    (\"Is participation in internships optional?\", \"internships\"),\n",
        "    (\"How do I find out about upcoming seminars?\", \"events\"),\n",
        "    (\"Are there any upcoming events for entrepreneurship?\", \"events\"),\n",
        "    (\"Do you have workshops on data science?\", \"events\"),\n",
        "    (\"What are the academic dates for next year?\", \"academic_calendar\"),\n",
        "    (\"What are the upcoming academic breaks?\", \"academic_calendar\"),\n",
        "    (\"When does the new semester begin?\", \"academic_calendar\"),\n",
        "    (\"What holidays are observed this semester?\", \"academic_calendar\")\n",
        "]\n",
        "\n",
        "\n",
        "evaluate_model(test_data)"
      ],
      "metadata": {
        "colab": {
          "base_uri": "https://localhost:8080/"
        },
        "id": "JaYZrTww5YD8",
        "outputId": "a3c4c33c-ea6c-4455-8493-21aa9a689891"
      },
      "execution_count": 30,
      "outputs": [
        {
          "output_type": "stream",
          "name": "stdout",
          "text": [
            "Accuracy: 69.49%\n"
          ]
        }
      ]
    },
    {
      "cell_type": "code",
      "source": [
        "\n",
        "# Validation Block to Measure Accuracy Based on Responses\n",
        "\n",
        "def evaluate_model(test_data):\n",
        "    \"\"\"\n",
        "    Evaluate the model's performance based on predicted responses.\n",
        "\n",
        "    Args:\n",
        "        test_data: A list of tuples containing user input and expected response.\n",
        "    \"\"\"\n",
        "\n",
        "    correct_predictions = 0\n",
        "\n",
        "    for user_input, expected_response in test_data:\n",
        "        # Tokenize and preprocess user input\n",
        "        tokenized_sentence = tokenize(user_input)\n",
        "        bag_of_words_vector = bag_of_words(tokenized_sentence, all_words)\n",
        "\n",
        "        # Convert to tensor and move to device\n",
        "        bag_of_words_tensor = torch.from_numpy(bag_of_words_vector).float().to(device)\n",
        "\n",
        "        # Get model output\n",
        "        output = model(bag_of_words_tensor.unsqueeze(0))  # Add batch dimension\n",
        "        _, predicted_index = torch.max(output, dim=1)\n",
        "\n",
        "        # Get predicted tag from index\n",
        "        predicted_tag = tags[predicted_index.item()]\n",
        "\n",
        "        # Find a response from the intents.json file for the predicted tag\n",
        "        predicted_response = None\n",
        "\n",
        "        for intent in intents['intents']:\n",
        "            if intent['tag'] == predicted_tag:\n",
        "                predicted_response = random.choice(intent['responses'])\n",
        "                break\n",
        "\n",
        "        # Compare predicted response with expected response\n",
        "        if predicted_response == expected_response:\n",
        "            correct_predictions += 1\n",
        "\n",
        "    # Calculate accuracy based on responses\n",
        "    accuracy_percentage = (correct_predictions / len(test_data)) * 100  # Convert to percentage\n",
        "    print(f'Accuracy: {accuracy_percentage:.2f}%')\n",
        "\n",
        "# Example test data (user input and expected response)\n",
        "test_data = [\n",
        "    (\"How to apply for admission?\", \"You can apply for admission through our online portal. Visit the Admissions section on our website for more details.\"),\n",
        "    (\"What are the admission policies?\", \"Admission requirements vary by program. Please check the program-specific details in the Admissions section.\"),\n",
        "    (\"What courses are offered over here?\", \"We offer a wide range of programs, including engineering, business, arts, and sciences. Visit the Programs section for a detailed list.\"),\n",
        "    (\"Can I apply for admission online?\", \"You can apply for admission through our online portal. Visit the Admissions section on our website for more details.\"),\n",
        "    (\"What are the prerequisites for applying?\", \"Admission requirements vary by program. Please check the program-specific details in the Admissions section.\"),\n",
        "    (\"When is the last date to apply?\", \"The application deadline depends on the program. Please refer to the academic calendar on the website.\"),\n",
        "    (\"Do you offer computer science courses?\", \"Yes, we offer engineering programs including Computer Science. Visit the Programs section for more details.\"),\n",
        "    (\"How much does the MBA program cost?\", \"The MBA program fee is available on the website under the Fees section. Scholarships may also be available.\"),\n",
        "    (\"Are there any discounts available on the course fees?\", \"The tuition fees vary by program. Please visit the Fees and Scholarships section for detailed information.\"),\n",
        "    (\"Do you offer scholarships for international students?\", \"Yes, we offer scholarships based on merit and need. Please visit the Scholarships section for more details.\"),\n",
        "    (\"What is the deadline for applications?\", \"The application deadline depends on the program. Please refer to the academic calendar on the website.\"),\n",
        "    (\"How do I apply for your courses?\", \"You can apply for admission through our online portal. Visit the Admissions section on our website for more details.\"),\n",
        "    (\"What are the application requirements for the engineering program?\", \"Admission requirements vary by program. Please check the program-specific details in the Admissions section.\"),\n",
        "    (\"Is there an engineering program in Artificial Intelligence?\", \"Yes, we have engineering programs. You can choose from various specializations such as Computer Science, Mechanical, and Civil.\"),\n",
        "    (\"Can I get a scholarship if I am not a top performer?\", \"We offer scholarships based on academic performance and financial need. Please visit the Scholarships section for more details.\"),\n",
        "    (\"How can I apply for financial aid?\", \"Yes, financial aid is available for eligible students. Please check the Scholarships section for the application process.\"),\n",
        "    (\"Can I borrow books from the library?\", \"Students can borrow books for a specific duration. Check the Library section for the borrowing policy.\"),\n",
        "    (\"Are there any cultural events this month?\", \"We host various events throughout the year, including workshops, fests, and competitions. Check the Events section for more information.\"),\n",
        "    (\"What is the fee for hostel accommodation?\", \"The hostel charges vary depending on the type of room. Please visit the Hostel section on our website for details.\"),\n",
        "    (\"Do you have a bus service for students?\", \"Yes, we provide transportation facilities with buses covering major routes. Check the Transportation section for more details.\"),\n",
        "    (\"Is the library open on weekends?\", \"The library is open from 8 AM to 8 PM on weekdays and 9 AM to 5 PM on weekends.\"),\n",
        "    (\"Can I attend campus events as an external guest?\", \"External guests may be allowed to attend certain campus events. Please check the Events section for more details.\"),\n",
        "    (\"Are internships mandatory for students?\", \"Yes, internships are an integral part of our curriculum for most programs.\"),\n",
        "    (\"What are the placement statistics?\", \"You can find the latest placement statistics in the Placements section of our website.\"),\n",
        "    (\"Do you offer online courses?\", \"We offer a wide range of programs. Visit the Programs section for detailed information on available online courses.\"),\n",
        "    (\"Are there scholarships for economically disadvantaged students?\", \"Yes, financial aid is available for eligible students. Please check the Scholarships section for details.\"),\n",
        "    (\"What types of student clubs do you have?\", \"We have a variety of student clubs, including technical, cultural, and sports clubs. Visit the Clubs section for more details.\"),\n",
        "    (\"Can I join clubs if I'm not from a technical background?\", \"Yes, you can join technical clubs such as the Coding Club, Robotics Club, and AI Club.\"),\n",
        "    (\"How much does the transportation service cost?\", \"The transport charges vary by distance. Visit the Transportation section on our website for details.\"),\n",
        "    (\"Do you have sports facilities on campus?\", \"Yes, we have a sports complex with facilities for basketball, cricket, football, and more.\"),\n",
        "    (\"How do I reach the placement office?\", \"Visit the Contact Us page on our website for detailed contact information.\"),\n",
        "    (\"What events are happening on campus this semester?\", \"You can find the latest events and seminars in the Events section of our website.\"),\n",
        "    (\"What are the library timings?\", \"The library is open from 8 AM to 8 PM on weekdays and 9 AM to 5 PM on weekends.\"),\n",
        "    (\"Are there workshops in the library?\", \"Yes, our library hosts various workshops. Check the Library section for more details.\"),\n",
        "    (\"Is there a shuttle service for students?\", \"Yes, we provide transportation facilities with buses covering major routes.\"),\n",
        "    (\"Can I apply for admission after the deadline?\", \"Admission deadlines are strict. Please refer to the academic calendar for specific deadlines.\"),\n",
        "    (\"Do you provide hostel accommodation for international students?\", \"Yes, we provide hostel facilities for both boys and girls with separate accommodations.\"),\n",
        "    (\"Are there any technical clubs available?\", \"Yes, we have technical clubs like the Coding Club, Robotics Club, and AI Club.\"),\n",
        "    (\"Can I borrow books from the online library?\", \"Yes, we have an online library portal where you can access e-books and journals.\"),\n",
        "    (\"Is there a hostel available for female students?\", \"Yes, we provide separate hostel facilities for both boys and girls.\"),\n",
        "    (\"Are there scholarships available for graduate students?\", \"Yes, we offer scholarships based on merit and financial need. Visit the Scholarships section for details.\"),\n",
        "    (\"What is the fee for the MBA program?\", \"The MBA program fee is available on the website under the Fees section. Scholarships may also be available.\"),\n",
        "]\n",
        "\n",
        "\n",
        "# Evaluate the model with test data\n",
        "evaluate_model(test_data)"
      ],
      "metadata": {
        "colab": {
          "base_uri": "https://localhost:8080/"
        },
        "id": "FbEXmznt-M2O",
        "outputId": "9443f3ef-37d0-486b-c8aa-f5cf5955a919"
      },
      "execution_count": 33,
      "outputs": [
        {
          "output_type": "stream",
          "name": "stdout",
          "text": [
            "Accuracy: 11.90%\n"
          ]
        }
      ]
    },
    {
      "cell_type": "code",
      "source": [
        "# Chatting with the bot\n",
        "print(\"Let's chat! (type 'quit' to exit)\")\n",
        "while True:\n",
        "    sentence = input(\"You: \")\n",
        "    if sentence.lower() == \"quit\":\n",
        "        break\n",
        "\n",
        "    response = get_response(sentence)\n",
        "    print(f\"Bot: {response}\")"
      ],
      "metadata": {
        "colab": {
          "base_uri": "https://localhost:8080/"
        },
        "id": "oLJVrUyX6tpt",
        "outputId": "52ac117e-0ce4-49bc-d2a7-6836b548e11d"
      },
      "execution_count": 34,
      "outputs": [
        {
          "name": "stdout",
          "output_type": "stream",
          "text": [
            "Let's chat! (type 'quit' to exit)\n",
            "You: quit\n"
          ]
        }
      ]
    }
  ]
}