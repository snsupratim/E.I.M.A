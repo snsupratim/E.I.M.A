{
  "nbformat": 4,
  "nbformat_minor": 0,
  "metadata": {
    "colab": {
      "provenance": [],
      "gpuType": "T4"
    },
    "kernelspec": {
      "name": "python3",
      "display_name": "Python 3"
    },
    "language_info": {
      "name": "python"
    },
    "accelerator": "GPU"
  },
  "cells": [
    {
      "cell_type": "code",
      "execution_count": 1,
      "metadata": {
        "colab": {
          "base_uri": "https://localhost:8080/"
        },
        "id": "2Fd9xJwSZJGQ",
        "outputId": "a36e23db-0be2-4a82-c6d1-d10d49c71f6a"
      },
      "outputs": [
        {
          "output_type": "stream",
          "name": "stderr",
          "text": [
            "[nltk_data] Downloading package punkt_tab to /root/nltk_data...\n",
            "[nltk_data]   Unzipping tokenizers/punkt_tab.zip.\n"
          ]
        },
        {
          "output_type": "execute_result",
          "data": {
            "text/plain": [
              "True"
            ]
          },
          "metadata": {},
          "execution_count": 1
        }
      ],
      "source": [
        "import nltk\n",
        "import random\n",
        "import json\n",
        "import numpy as np\n",
        "import torch\n",
        "import torch.nn as nn\n",
        "from torch.utils.data import Dataset, DataLoader\n",
        "\n",
        "# Download necessary NLTK resources\n",
        "nltk.download('punkt_tab')\n"
      ]
    },
    {
      "cell_type": "code",
      "source": [
        "# Load intents from JSON file\n",
        "with open('intents.json', 'r') as f:\n",
        "    intents = json.load(f)\n",
        "\n",
        "# Initialize stemmer\n",
        "from nltk.stem.porter import PorterStemmer\n",
        "stemmer = PorterStemmer()\n",
        "\n",
        "def tokenize(sentence):\n",
        "    \"\"\"Split sentence into array of words/tokens.\"\"\"\n",
        "    return nltk.word_tokenize(sentence)\n",
        "\n",
        "def stem(word):\n",
        "    \"\"\"Find the root form of the word.\"\"\"\n",
        "    return stemmer.stem(word.lower())\n",
        "\n",
        "def bag_of_words(tokenized_sentence, words):\n",
        "    \"\"\"Return bag of words array.\"\"\"\n",
        "    sentence_words = [stem(word) for word in tokenized_sentence]\n",
        "    bag = np.zeros(len(words), dtype=np.float32)\n",
        "    for idx, w in enumerate(words):\n",
        "        if w in sentence_words:\n",
        "            bag[idx] = 1\n",
        "    return bag"
      ],
      "metadata": {
        "id": "r-Lr7OdhZiKn"
      },
      "execution_count": 3,
      "outputs": []
    },
    {
      "cell_type": "code",
      "source": [
        "# Prepare training data\n",
        "all_words = []\n",
        "tags = []\n",
        "xy = []\n",
        "\n",
        "for intent in intents['intents']:\n",
        "    tag = intent['tag']\n",
        "    tags.append(tag)\n",
        "    for pattern in intent['patterns']:\n",
        "        w = tokenize(pattern)\n",
        "        all_words.extend(w)\n",
        "        xy.append((w, tag))\n",
        "\n",
        "# Stem and lower each word\n",
        "ignore_words = ['?', '.', '!']\n",
        "all_words = [stem(w) for w in all_words if w not in ignore_words]\n",
        "all_words = sorted(set(all_words))\n",
        "tags = sorted(set(tags))"
      ],
      "metadata": {
        "id": "8RWJiLxjZ6gO"
      },
      "execution_count": 4,
      "outputs": []
    },
    {
      "cell_type": "code",
      "source": [
        "# Create training data\n",
        "X_train = []\n",
        "y_train = []\n",
        "for (pattern_sentence, tag) in xy:\n",
        "    bag = bag_of_words(pattern_sentence, all_words)\n",
        "    X_train.append(bag)\n",
        "    label = tags.index(tag)\n",
        "    y_train.append(label)\n",
        "\n",
        "X_train = np.array(X_train)\n",
        "y_train = np.array(y_train)"
      ],
      "metadata": {
        "id": "7oyYZHxMZ9lk"
      },
      "execution_count": 5,
      "outputs": []
    },
    {
      "cell_type": "code",
      "source": [
        "# Define the enhanced neural network\n",
        "class EnhancedNeuralNet(nn.Module):\n",
        "    def __init__(self, input_size, hidden_size, num_classes, num_hidden_layers=3, dropout_rate=0.3):\n",
        "        super(EnhancedNeuralNet, self).__init__()\n",
        "\n",
        "        # Input layer\n",
        "        self.input_layer = nn.Linear(input_size, hidden_size)\n",
        "\n",
        "        # Hidden layers\n",
        "        self.hidden_layers = nn.ModuleList(\n",
        "            [nn.Linear(hidden_size, hidden_size) for _ in range(num_hidden_layers)]\n",
        "        )\n",
        "\n",
        "        # Batch normalization for hidden layers\n",
        "        self.batch_norms = nn.ModuleList(\n",
        "            [nn.BatchNorm1d(hidden_size) for _ in range(num_hidden_layers)]\n",
        "        )\n",
        "\n",
        "        # Activation function\n",
        "        self.relu = nn.ReLU()\n",
        "\n",
        "        # Dropout for regularization\n",
        "        self.dropout = nn.Dropout(dropout_rate)\n",
        "\n",
        "        # Output layer\n",
        "        self.output_layer = nn.Linear(hidden_size, num_classes)\n",
        "\n",
        "    def forward(self, x):\n",
        "        # Input layer\n",
        "        out = self.input_layer(x)\n",
        "        out = self.relu(out)\n",
        "\n",
        "        # Hidden layers with BatchNorm, ReLU, and Dropout\n",
        "        for hidden_layer, batch_norm in zip(self.hidden_layers, self.batch_norms):\n",
        "            out = hidden_layer(out)\n",
        "            out = batch_norm(out)\n",
        "            out = self.relu(out)\n",
        "            out = self.dropout(out)\n",
        "\n",
        "        # Output layer\n",
        "        out = self.output_layer(out)\n",
        "        return out\n"
      ],
      "metadata": {
        "id": "qdgG08tNaAyC"
      },
      "execution_count": 6,
      "outputs": []
    },
    {
      "cell_type": "code",
      "source": [
        "# Hyperparameters\n",
        "num_epochs = 1000\n",
        "batch_size = 8\n",
        "learning_rate = 0.001\n",
        "input_size = len(X_train[0])\n",
        "hidden_size = 128  # Increased hidden size for more capacity\n",
        "output_size = len(tags)\n",
        "num_hidden_layers = 4\n",
        "dropout_rate = 0.3"
      ],
      "metadata": {
        "id": "apgaX4rIaDzR"
      },
      "execution_count": 7,
      "outputs": []
    },
    {
      "cell_type": "code",
      "source": [
        "# Dataset class\n",
        "class ChatDataset(Dataset):\n",
        "    def __init__(self):\n",
        "        self.n_samples = len(X_train)\n",
        "        self.x_data = X_train\n",
        "        self.y_data = y_train\n",
        "\n",
        "    def __getitem__(self, index):\n",
        "        return self.x_data[index], self.y_data[index]\n",
        "\n",
        "    def __len__(self):\n",
        "        return self.n_samples\n",
        "\n",
        "dataset = ChatDataset()\n",
        "train_loader = DataLoader(dataset=dataset,\n",
        "                          batch_size=batch_size,\n",
        "                          shuffle=True,\n",
        "                          num_workers=0)\n",
        "\n",
        "# Training setup\n",
        "device = torch.device('cuda' if torch.cuda.is_available() else 'cpu')\n",
        "model = EnhancedNeuralNet(input_size, hidden_size, output_size, num_hidden_layers, dropout_rate).to(device)"
      ],
      "metadata": {
        "id": "7TgQ48fIaF_s"
      },
      "execution_count": 8,
      "outputs": []
    },
    {
      "cell_type": "code",
      "source": [
        "# Loss and optimizer\n",
        "criterion = nn.CrossEntropyLoss()\n",
        "optimizer = torch.optim.Adam(model.parameters(), lr=learning_rate)\n",
        "\n",
        "# Training loop\n",
        "for epoch in range(num_epochs):\n",
        "    for (words, labels) in train_loader:\n",
        "        words = words.to(device)\n",
        "        labels = labels.to(dtype=torch.long).to(device)\n",
        "\n",
        "        outputs = model(words)\n",
        "        loss = criterion(outputs, labels)\n",
        "\n",
        "        optimizer.zero_grad()\n",
        "        loss.backward()\n",
        "        optimizer.step()\n",
        "\n",
        "    if (epoch + 1) % 100 == 0:\n",
        "        print(f'Epoch [{epoch + 1}/{num_epochs}], Loss: {loss.item():.4f}')\n",
        "\n",
        "print(f'Final loss: {loss.item():.4f}')"
      ],
      "metadata": {
        "colab": {
          "base_uri": "https://localhost:8080/"
        },
        "id": "1k36Geo_aJpJ",
        "outputId": "c87a9f92-5c2f-4e75-effc-631a1b26fc41"
      },
      "execution_count": 9,
      "outputs": [
        {
          "output_type": "stream",
          "name": "stdout",
          "text": [
            "Epoch [100/1000], Loss: 0.0737\n",
            "Epoch [200/1000], Loss: 0.2496\n",
            "Epoch [300/1000], Loss: 0.9444\n",
            "Epoch [400/1000], Loss: 0.0200\n",
            "Epoch [500/1000], Loss: 0.0038\n",
            "Epoch [600/1000], Loss: 0.1753\n",
            "Epoch [700/1000], Loss: 0.1350\n",
            "Epoch [800/1000], Loss: 0.0688\n",
            "Epoch [900/1000], Loss: 0.0133\n",
            "Epoch [1000/1000], Loss: 0.0236\n",
            "Final loss: 0.0236\n"
          ]
        }
      ]
    },
    {
      "cell_type": "code",
      "source": [
        "# Save the model\n",
        "data = {\n",
        "    \"model_state\": model.state_dict(),\n",
        "    \"input_size\": input_size,\n",
        "    \"hidden_size\": hidden_size,\n",
        "    \"output_size\": output_size,\n",
        "    \"all_words\": all_words,\n",
        "    \"tags\": tags\n",
        "}\n",
        "\n",
        "FILE = \"chatbot_model.pth\"\n",
        "torch.save(data, FILE)\n",
        "print(f'Training complete. Model saved to {FILE}')"
      ],
      "metadata": {
        "colab": {
          "base_uri": "https://localhost:8080/"
        },
        "id": "eyUAFaaYaNp9",
        "outputId": "474bc9bc-0b92-4c1d-929c-56b24063f7f5"
      },
      "execution_count": 10,
      "outputs": [
        {
          "output_type": "stream",
          "name": "stdout",
          "text": [
            "Training complete. Model saved to chatbot_model.pth\n"
          ]
        }
      ]
    },
    {
      "cell_type": "code",
      "source": [
        "# Chatbot functionality\n",
        "class ChatBot:\n",
        "    def __init__(self):\n",
        "        self.model = model\n",
        "        self.model.eval()\n",
        "        self.all_words = all_words\n",
        "        self.tags = tags\n",
        "\n",
        "    def get_response(self, user_input):\n",
        "        \"\"\"Get a response based on user input.\"\"\"\n",
        "        sentence = tokenize(user_input)\n",
        "        X = bag_of_words(sentence, self.all_words)\n",
        "        X = torch.from_numpy(X).unsqueeze(0).to(device)  # Add batch dimension\n",
        "\n",
        "        with torch.no_grad():\n",
        "            output = self.model(X)\n",
        "            _, predicted = torch.max(output, dim=1)\n",
        "            tag = self.tags[predicted.item()]\n",
        "\n",
        "        # Find the corresponding intent and return a response\n",
        "        for intent in intents['intents']:\n",
        "            if tag == intent[\"tag\"]:\n",
        "                return random.choice(intent['responses'])\n",
        "\n",
        "        return \"I'm sorry, I don't understand.\""
      ],
      "metadata": {
        "id": "zX6UHsyoaVX1"
      },
      "execution_count": 11,
      "outputs": []
    },
    {
      "cell_type": "code",
      "source": [
        "# Chat with the bot\n",
        "chatbot = ChatBot()\n",
        "print(\"Let's chat! (type 'quit' to exit)\")\n",
        "\n",
        "while True:\n",
        "    user_input = input(\"You: \")\n",
        "    if user_input.lower() == \"quit\":\n",
        "        break\n",
        "    response = chatbot.get_response(user_input)\n",
        "    print(f\"Bot: {response}\")"
      ],
      "metadata": {
        "colab": {
          "base_uri": "https://localhost:8080/"
        },
        "id": "OIC3cCd0aV85",
        "outputId": "130813b1-2bf6-4224-d77e-2f39bfaaf6ba"
      },
      "execution_count": 12,
      "outputs": [
        {
          "name": "stdout",
          "output_type": "stream",
          "text": [
            "Let's chat! (type 'quit' to exit)\n",
            "You: quit\n"
          ]
        }
      ]
    },
    {
      "cell_type": "code",
      "source": [
        "def validate_model(test_data, model, all_words, tags, device):\n",
        "    \"\"\"\n",
        "    Validate the chatbot model on a test dataset.\n",
        "\n",
        "    Parameters:\n",
        "        test_data (list): A list of tuples where each tuple contains a user input and its expected tag.\n",
        "                          Example: [(\"How can I apply?\", \"admissions\"), ...]\n",
        "        model (EnhancedNeuralNet): The trained chatbot model.\n",
        "        all_words (list): The vocabulary used for training.\n",
        "        tags (list): The list of intent tags.\n",
        "        device (torch.device): The device on which the model is running (CPU or CUDA).\n",
        "\n",
        "    Returns:\n",
        "        float: Accuracy of the model on the test dataset.\n",
        "    \"\"\"\n",
        "    model.eval()  # Set the model to evaluation mode\n",
        "    correct = 0\n",
        "    total = len(test_data)\n",
        "\n",
        "    with torch.no_grad():  # Turn off gradients for evaluation\n",
        "        for user_input, expected_tag in test_data:\n",
        "            # Preprocess user input\n",
        "            tokenized_input = tokenize(user_input)\n",
        "            bag = bag_of_words(tokenized_input, all_words)\n",
        "            bag_tensor = torch.from_numpy(bag).unsqueeze(0).to(device)  # Add batch dimension\n",
        "\n",
        "            # Get the model prediction\n",
        "            output = model(bag_tensor)\n",
        "            _, predicted_idx = torch.max(output, dim=1)\n",
        "            predicted_tag = tags[predicted_idx.item()]\n",
        "\n",
        "            # Compare with the expected tag\n",
        "            if predicted_tag == expected_tag:\n",
        "                correct += 1\n",
        "\n",
        "    accuracy = (correct / total) * 100\n",
        "    return accuracy\n",
        "\n",
        "# Example Test Data (can be expanded or modified)\n",
        "test_data = [\n",
        "    # Admissions-related questions\n",
        "    (\"How can I apply for admission?\", \"admissions\"),\n",
        "    (\"What are the admission requirements?\", \"admissions\"),\n",
        "    (\"When is the application deadline?\", \"admissions\"),\n",
        "    (\"Can I apply online?\", \"admissions\"),\n",
        "    (\"Is the admission process open now?\", \"admissions\"),\n",
        "    (\"Where can I find the admission form?\", \"admissions\"),\n",
        "    (\"What documents are needed for admission?\", \"admissions\"),\n",
        "    (\"Do you have rolling admissions?\", \"admissions\"),\n",
        "\n",
        "    # Courses-related questions\n",
        "    (\"Can I see the list of courses?\", \"courses\"),\n",
        "    (\"What courses are offered?\", \"courses\"),\n",
        "    (\"Do you have engineering programs?\", \"courses\"),\n",
        "    (\"What are the popular courses?\", \"courses\"),\n",
        "    (\"Can you tell me about business programs?\", \"courses\"),\n",
        "    (\"Do you offer data science programs?\", \"courses\"),\n",
        "    (\"Are there any evening courses?\", \"courses\"),\n",
        "    (\"Is there a course in AI?\", \"courses\"),\n",
        "\n",
        "    # Fees-related questions\n",
        "    (\"How much does the MBA program cost?\", \"fees\"),\n",
        "    (\"What is the tuition fee?\", \"fees\"),\n",
        "    (\"Are there any scholarships available?\", \"fees\"),\n",
        "    (\"What is the fee structure?\", \"fees\"),\n",
        "    (\"Is there any financial aid for students?\", \"fees\"),\n",
        "    (\"Do international students pay more fees?\", \"fees\"),\n",
        "    (\"Can I pay fees in installments?\", \"fees\"),\n",
        "    (\"What is the cost for a bachelor's program?\", \"fees\"),\n",
        "\n",
        "    # Transportation-related questions\n",
        "    (\"Do you provide transportation facilities?\", \"transportation\"),\n",
        "    (\"Is there a bus service for students?\", \"transportation\"),\n",
        "    (\"What are the transport charges?\", \"transportation\"),\n",
        "    (\"Do you offer transportation on weekends?\", \"transportation\"),\n",
        "    (\"Can I get a bus schedule?\", \"transportation\"),\n",
        "    (\"How far does the campus transportation go?\", \"transportation\"),\n",
        "    (\"Is the transportation service reliable?\", \"transportation\"),\n",
        "\n",
        "    # Events-related questions\n",
        "    (\"Tell me about campus events.\", \"events\"),\n",
        "    (\"Are there any upcoming cultural events?\", \"events\"),\n",
        "    (\"What events are happening this month?\", \"events\"),\n",
        "    (\"Do you host any workshops?\", \"events\"),\n",
        "    (\"When is the next seminar?\", \"events\"),\n",
        "    (\"What activities are planned for freshmen?\", \"events\"),\n",
        "    (\"Is there a sports fest?\", \"events\"),\n",
        "\n",
        "    # Placement-related questions\n",
        "    (\"What are the placement statistics?\", \"placement\"),\n",
        "    (\"Do you have a placement cell?\", \"placement\"),\n",
        "    (\"Which companies visit for placements?\", \"placement\"),\n",
        "    (\"What is the placement process?\", \"placement\"),\n",
        "    (\"Can I get placement support as an alumni?\", \"placement\"),\n",
        "    (\"What is the average package for engineering students?\", \"placement\"),\n",
        "    (\"Do startups hire from your campus?\", \"placement\"),\n",
        "\n",
        "    # Facilities-related questions\n",
        "    (\"Is there a library on campus?\", \"facilities\"),\n",
        "    (\"What facilities are available?\", \"facilities\"),\n",
        "    (\"Is there a sports complex?\", \"facilities\"),\n",
        "    (\"Can you tell me about hostel facilities?\", \"facilities\"),\n",
        "    (\"Do you have a gym on campus?\", \"facilities\"),\n",
        "    (\"Are there labs for research students?\", \"facilities\"),\n",
        "    (\"What amenities are there for international students?\", \"facilities\"),\n",
        "\n",
        "    # Library-related questions\n",
        "    (\"What are the library timings?\", \"library\"),\n",
        "    (\"Can I borrow books from the library?\", \"library\"),\n",
        "    (\"Do you have an online library?\", \"library\"),\n",
        "    (\"Are there study rooms in the library?\", \"library\"),\n",
        "    (\"Does the library provide access to research papers?\", \"library\"),\n",
        "    (\"Can I use the library as an external member?\", \"library\"),\n",
        "\n",
        "    # Scholarships-related questions\n",
        "    (\"Are there any scholarships available?\", \"scholarships\"),\n",
        "    (\"How can I apply for scholarships?\", \"scholarships\"),\n",
        "    (\"Do you offer merit-based scholarships?\", \"scholarships\"),\n",
        "    (\"What are the eligibility criteria for scholarships?\", \"scholarships\"),\n",
        "    (\"Are there scholarships for international students?\", \"scholarships\"),\n",
        "    (\"Can I apply for multiple scholarships?\", \"scholarships\"),\n",
        "    (\"Is financial aid available for low-income families?\", \"scholarships\"),\n",
        "\n",
        "    # Hostel-related questions\n",
        "    (\"What are the hostel charges?\", \"hostel\"),\n",
        "    (\"Do you have separate hostels for boys and girls?\", \"hostel\"),\n",
        "    (\"What amenities are provided in the hostel?\", \"hostel\"),\n",
        "    (\"Is there 24/7 security in the hostel?\", \"hostel\"),\n",
        "    (\"Can I get a single room in the hostel?\", \"hostel\"),\n",
        "    (\"Do hostels have Wi-Fi?\", \"hostel\"),\n",
        "    (\"Are meals included in the hostel fee?\", \"hostel\"),\n",
        "]\n",
        "\n",
        "\n",
        "# Validate the model accuracy\n",
        "accuracy = validate_model(test_data, model, all_words, tags, device)\n",
        "print(f\"Model Accuracy: {accuracy:.2f}%\")\n"
      ],
      "metadata": {
        "colab": {
          "base_uri": "https://localhost:8080/"
        },
        "id": "XVnXtmMpaj2R",
        "outputId": "d7a0eb53-14dc-4939-b235-ce06c8c5998b"
      },
      "execution_count": 14,
      "outputs": [
        {
          "output_type": "stream",
          "name": "stdout",
          "text": [
            "Model Accuracy: 86.11%\n"
          ]
        }
      ]
    }
  ]
}